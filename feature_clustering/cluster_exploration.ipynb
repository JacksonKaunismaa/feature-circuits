{
 "cells": [
  {
   "cell_type": "code",
   "execution_count": 1,
   "metadata": {},
   "outputs": [
    {
     "name": "stderr",
     "output_type": "stream",
     "text": [
      "/home/can/.local/lib/python3.8/site-packages/tqdm/auto.py:21: TqdmWarning: IProgress not found. Please update jupyter and ipywidgets. See https://ipywidgets.readthedocs.io/en/stable/user_install.html\n",
      "  from .autonotebook import tqdm as notebook_tqdm\n"
     ]
    }
   ],
   "source": [
    "import json\n",
    "import os\n",
    "import numpy as np\n",
    "import torch as t\n",
    "import torch.nn.functional as F\n",
    "from collections import defaultdict\n",
    "import plotly.graph_objects as go\n",
    "from matplotlib import pyplot as plt\n",
    "from cluster_utils import ClusterConfig, pos_filter_sparse;"
   ]
  },
  {
   "cell_type": "code",
   "execution_count": 2,
   "metadata": {},
   "outputs": [],
   "source": [
    "results_dir = \"/home/can/feature_clustering/clustering_pythia-70m-deduped_tloss0.1_nsamples1024_npos32_filtered-induction_mlp-attn-resid\"\n",
    "\n",
    "# Load config\n",
    "device = \"cuda:0\"\n",
    "ccfg = ClusterConfig(**json.load(open(os.path.join(results_dir, \"config.json\"), \"r\")))"
   ]
  },
  {
   "cell_type": "code",
   "execution_count": 3,
   "metadata": {},
   "outputs": [],
   "source": [
    "def load_pattern_matrix_final_pos(results_dir, data_source, ccfg):\n",
    "    pos_idxs = [ccfg.n_pos - 1]\n",
    "    X = t.load(os.path.join(results_dir, data_source + \".pt\"))\n",
    "    X = pos_filter_sparse(X, ccfg, pos_idxs)\n",
    "    X = X.to_dense().reshape(X.shape[0], -1)\n",
    "    return X\n",
    "\n",
    "def compute_similarity_matrix(X, angular=False):\n",
    "    X_norm = F.normalize(X, p=2, dim=-1)\n",
    "    C = t.matmul(X_norm, X_norm.T) # cos sim\n",
    "    if angular:\n",
    "        C = t.clamp(C, -1, 1)\n",
    "        C = 1 - t.acos(C) / np.pi\n",
    "    return C\n",
    "\n",
    "def compute_similarity_matrix_between_clusters(X, cluster_1_idxs, cluster_2_idxs, angular=False):\n",
    "    X_norm = F.normalize(X, p=2, dim=-1)\n",
    "    C = t.matmul(X_norm[cluster_1_idxs], X_norm[cluster_2_idxs].T) # cos sim\n",
    "    if angular:\n",
    "        C = t.clamp(C, -1, 1)\n",
    "        C = 1 - t.acos(C) / np.pi\n",
    "    return C\n",
    "\n",
    "def find_pairwise_distances(X, angular=False):\n",
    "    C = compute_similarity_matrix(X, angular=angular)\n",
    "    # Only select values in the upper triangle\n",
    "    distances = []\n",
    "    for row in range(C.shape[0]):\n",
    "        for col in range(row+1, C.shape[1]):\n",
    "            distances.append(C[row, col].item())\n",
    "    return t.tensor(distances)\n",
    "\n",
    "def find_centroids(X, clusters, n_clusters):\n",
    "    centroid_idxs = t.zeros(n_clusters, dtype=t.int)\n",
    "    for cluster_idx in range(n_clusters):\n",
    "        cluster_mask = t.tensor(clusters[str(n_clusters)]) == cluster_idx\n",
    "        cluster = X[cluster_mask]\n",
    "        cluster_mean = cluster.mean(dim=0)\n",
    "        distances = t.norm(cluster - cluster_mean, dim=1)\n",
    "        centroid_idx = t.argsort(distances)[0]\n",
    "        centroid_idxs[cluster_idx] = centroid_idx\n",
    "    return centroid_idxs"
   ]
  },
  {
   "cell_type": "markdown",
   "metadata": {},
   "source": [
    "## Activations"
   ]
  },
  {
   "cell_type": "code",
   "execution_count": 4,
   "metadata": {},
   "outputs": [],
   "source": [
    "data_source = \"activations\" # activations or lin_effects\n",
    "cluster_filename = f\"clusters_activations_posfinal.json\"\n",
    "activation_clusters = json.load(open(os.path.join(results_dir, cluster_filename), \"r\"))\n",
    "X_activations = load_pattern_matrix_final_pos(results_dir, data_source, ccfg)"
   ]
  },
  {
   "cell_type": "code",
   "execution_count": 5,
   "metadata": {},
   "outputs": [
    {
     "name": "stdout",
     "output_type": "stream",
     "text": [
      "cluster 50/0 has 16 samples\n",
      "unique distances tensor([1.0000])\n"
     ]
    }
   ],
   "source": [
    "# Inspect single cluster\n",
    "n_clusters = 50\n",
    "cluster_idx = 0\n",
    "\n",
    "cluster_mask = t.tensor(activation_clusters[str(n_clusters)]) == cluster_idx\n",
    "pairwise_distances = find_pairwise_distances(X_activations[cluster_mask], angular=False)\n",
    "\n",
    "print(f'cluster {n_clusters}/{cluster_idx} has {cluster_mask.sum()} samples')\n",
    "print(f'unique distances {pairwise_distances.unique()}')"
   ]
  },
  {
   "cell_type": "code",
   "execution_count": 7,
   "metadata": {},
   "outputs": [],
   "source": [
    "# Compute intra-cluster distances for all n_clusters\n",
    "aggregated_intra_cluster_distances = defaultdict(list)\n",
    "for i, n_clusters in enumerate(ccfg.cluster_counts):\n",
    "    for cluster_idx in range(n_clusters):\n",
    "        cluster_mask = t.tensor(activation_clusters[str(n_clusters)]) == cluster_idx\n",
    "        if cluster_mask.sum() > 1:\n",
    "            pairwise_distances = find_pairwise_distances(X_activations[cluster_mask], angular=False)\n",
    "            aggregated_intra_cluster_distances[n_clusters].append((pairwise_distances.mean(), cluster_idx, cluster_mask.sum()))"
   ]
  },
  {
   "cell_type": "code",
   "execution_count": 15,
   "metadata": {},
   "outputs": [
    {
     "data": {
      "text/plain": [
       "[(tensor(1.0000), 0, tensor(16)),\n",
       " (tensor(1.0000), 1, tensor(16)),\n",
       " (tensor(1.), 2, tensor(16)),\n",
       " (tensor(1.0000), 3, tensor(16)),\n",
       " (tensor(1.), 4, tensor(16)),\n",
       " (tensor(1.), 5, tensor(16)),\n",
       " (tensor(1.0000), 6, tensor(16)),\n",
       " (tensor(1.0000), 7, tensor(16)),\n",
       " (tensor(1.0000), 8, tensor(16)),\n",
       " (tensor(1.0000), 9, tensor(16)),\n",
       " (tensor(1.), 10, tensor(16)),\n",
       " (tensor(1.0000), 11, tensor(16)),\n",
       " (tensor(1.0000), 12, tensor(16)),\n",
       " (tensor(0.9993), 13, tensor(17)),\n",
       " (tensor(1.0000), 14, tensor(16)),\n",
       " (tensor(1.0000), 15, tensor(16)),\n",
       " (tensor(1.0000), 16, tensor(16)),\n",
       " (tensor(1.0000), 17, tensor(16)),\n",
       " (tensor(1.0000), 18, tensor(16)),\n",
       " (tensor(1.0000), 19, tensor(14)),\n",
       " (tensor(1.0000), 20, tensor(16)),\n",
       " (tensor(1.0000), 21, tensor(16)),\n",
       " (tensor(1.0000), 22, tensor(16)),\n",
       " (tensor(1.0000), 23, tensor(16)),\n",
       " (tensor(1.0000), 24, tensor(16)),\n",
       " (tensor(1.0000), 25, tensor(14)),\n",
       " (tensor(0.9771), 26, tensor(17)),\n",
       " (tensor(1.0000), 27, tensor(16)),\n",
       " (tensor(1.0000), 28, tensor(16)),\n",
       " (tensor(1.0000), 29, tensor(16)),\n",
       " (tensor(1.0000), 30, tensor(16)),\n",
       " (tensor(1.0000), 31, tensor(16)),\n",
       " (tensor(1.0000), 32, tensor(16)),\n",
       " (tensor(1.), 33, tensor(16)),\n",
       " (tensor(1.0000), 34, tensor(13)),\n",
       " (tensor(1.0000), 35, tensor(16)),\n",
       " (tensor(1.), 36, tensor(16)),\n",
       " (tensor(1.0000), 37, tensor(16)),\n",
       " (tensor(1.), 38, tensor(16)),\n",
       " (tensor(1.0000), 39, tensor(16)),\n",
       " (tensor(1.0000), 40, tensor(16)),\n",
       " (tensor(1.0000), 41, tensor(16)),\n",
       " (tensor(1.0000), 42, tensor(16)),\n",
       " (tensor(1.0000), 43, tensor(16)),\n",
       " (tensor(1.), 44, tensor(16)),\n",
       " (tensor(1.0000), 45, tensor(16)),\n",
       " (tensor(1.), 46, tensor(12)),\n",
       " (tensor(1.), 47, tensor(3)),\n",
       " (tensor(1.0000), 48, tensor(16)),\n",
       " (tensor(1.0000), 49, tensor(11)),\n",
       " (tensor(1.0000), 50, tensor(13)),\n",
       " (tensor(1.), 51, tensor(9)),\n",
       " (tensor(1.0000), 52, tensor(12)),\n",
       " (tensor(1.0000), 53, tensor(16)),\n",
       " (tensor(1.), 54, tensor(6)),\n",
       " (tensor(1.0000), 55, tensor(16)),\n",
       " (tensor(1.), 56, tensor(16)),\n",
       " (tensor(1.), 57, tensor(10)),\n",
       " (tensor(1.0000), 58, tensor(16)),\n",
       " (tensor(1.0000), 59, tensor(16)),\n",
       " (tensor(1.), 60, tensor(9)),\n",
       " (tensor(1.0000), 61, tensor(8)),\n",
       " (tensor(1.0000), 62, tensor(3)),\n",
       " (tensor(1.0000), 63, tensor(15)),\n",
       " (tensor(1.0000), 64, tensor(8)),\n",
       " (tensor(1.), 65, tensor(6)),\n",
       " (tensor(1.), 66, tensor(7)),\n",
       " (tensor(1.0000), 67, tensor(5)),\n",
       " (tensor(1.), 68, tensor(7)),\n",
       " (tensor(1.), 69, tensor(10)),\n",
       " (tensor(1.0000), 70, tensor(4)),\n",
       " (tensor(1.0000), 72, tensor(4)),\n",
       " (tensor(1.0000), 73, tensor(2)),\n",
       " (tensor(1.), 74, tensor(5)),\n",
       " (tensor(1.0000), 75, tensor(2)),\n",
       " (tensor(1.0000), 99, tensor(2))]"
      ]
     },
     "execution_count": 15,
     "metadata": {},
     "output_type": "execute_result"
    }
   ],
   "source": [
    "aggregated_intra_cluster_distances[100]"
   ]
  },
  {
   "cell_type": "code",
   "execution_count": 24,
   "metadata": {},
   "outputs": [
    {
     "data": {
      "image/png": "[encoded data removed]",
      "text/plain": [
       "<Figure size 640x480 with 1 Axes>"
      ]
     },
     "metadata": {},
     "output_type": "display_data"
    }
   ],
   "source": [
    "# Get the distances\n",
    "distances = t.tensor(aggregated_intra_cluster_distances[100])[:, 0]\n",
    "\n",
    "# Plot the histogram\n",
    "xmax = 1.1\n",
    "nbins = 20\n",
    "plt.hist(distances, bins=nbins, range=(0, xmax))\n",
    "plt.xlabel('Mean Pairwise Distance within Cluster')\n",
    "plt.ylabel('Frequency')\n",
    "plt.title(f'Mean cosine similarities within clusters\\n (n_clusters=100, only {distances.shape[0]} clusters with >1 samples considered)')\n",
    "\n",
    "# Show the plot\n",
    "plt.show()"
   ]
  },
  {
   "cell_type": "code",
   "execution_count": 59,
   "metadata": {},
   "outputs": [
    {
     "data": {
      "image/png": "[encoded data removed]",
      "text/plain": [
       "<Figure size 600x800 with 2 Axes>"
      ]
     },
     "metadata": {},
     "output_type": "display_data"
    }
   ],
   "source": [
    "# Get the data\n",
    "mean_distances = [t.tensor(agg)[:, 0].mean() for n_clusters, agg in aggregated_intra_cluster_distances.items()]\n",
    "num_clusters = [t.tensor(agg).shape[0] for n_clusters, agg in aggregated_intra_cluster_distances.items()]\n",
    "\n",
    "# Create the figure and subplots\n",
    "fig, axs = plt.subplots(2, 1, figsize=(6,8))\n",
    "\n",
    "# Plot the mean intra-cluster distances\n",
    "axs[0].scatter(ccfg.cluster_counts, mean_distances)\n",
    "axs[0].set_xlabel('Number of Clusters')\n",
    "axs[0].set_ylabel('Mean Distances within clusters')\n",
    "axs[0].set_title('Mean Distances within clusters over Number of Clusters')\n",
    "\n",
    "# Plot the number of clusters with more than one sample\n",
    "axs[1].scatter(ccfg.cluster_counts, num_clusters)\n",
    "axs[1].set_xlabel('Number of Clusters')\n",
    "axs[1].set_ylabel('Number of Clusters with >1 Samples')\n",
    "axs[1].set_title('Number of Clusters with More than One Sample')\n",
    "\n",
    "# Adjust the spacing between subplots\n",
    "plt.tight_layout()\n",
    "\n",
    "# Show the figure\n",
    "plt.show()\n"
   ]
  },
  {
   "cell_type": "markdown",
   "metadata": {},
   "source": [
    "what's the cluster above about? (choose not to append single values)"
   ]
  },
  {
   "cell_type": "code",
   "execution_count": 21,
   "metadata": {},
   "outputs": [],
   "source": [
    "\n",
    "for i, n_clusters in enumerate(ccfg.cluster_counts):\n",
    "    for cluster_idx in range(n_clusters):\n",
    "        cluster_mask = t.tensor(activation_clusters[str(n_clusters)]) == cluster_idx\n",
    "        # if cluster_mask.sum() > 0:\n",
    "        pairwise_distances = find_pairwise_distances(X_activations[cluster_mask], angular=False)\n",
    "        aggregated_intra_cluster_distances[n_clusters].append(pairwise_distances.mean().item())"
   ]
  },
  {
   "cell_type": "code",
   "execution_count": 22,
   "metadata": {},
   "outputs": [
    {
     "data": {
      "text/plain": [
       "tensor(0.6749)"
      ]
     },
     "execution_count": 22,
     "metadata": {},
     "output_type": "execute_result"
    }
   ],
   "source": [
    "t.tensor(aggregated_intra_cluster_distances[10]).mean()"
   ]
  },
  {
   "cell_type": "code",
   "execution_count": null,
   "metadata": {},
   "outputs": [],
   "source": []
  },
  {
   "cell_type": "code",
   "execution_count": null,
   "metadata": {},
   "outputs": [],
   "source": []
  },
  {
   "cell_type": "code",
   "execution_count": null,
   "metadata": {},
   "outputs": [],
   "source": []
  },
  {
   "cell_type": "code",
   "execution_count": null,
   "metadata": {},
   "outputs": [],
   "source": []
  },
  {
   "cell_type": "code",
   "execution_count": null,
   "metadata": {},
   "outputs": [],
   "source": [
    "centroid_pairwise_distances = defaultdict(list)\n",
    "for n_clusters in ccfg.cluster_counts:\n",
    "    centroid_idxs = find_centroids(X_activations, activation_clusters, n_clusters)\n",
    "    centroid_pairwise_distances[n_clusters].append(find_pairwise_distances(X_activations[centroid_idxs], angular=False).tolist())"
   ]
  },
  {
   "cell_type": "code",
   "execution_count": null,
   "metadata": {},
   "outputs": [],
   "source": [
    "def plot_intra_cluster_distances(accumulated_intra_cluster_distances, centroid_pairwise_distances):    \n",
    "    # Plot intra-cluster distances\n",
    "    fig = go.Figure()\n",
    "\n",
    "    # Create slider steps\n",
    "    slider_steps = []\n",
    "    for n_clusters, intra_cluster_distances in accumulated_intra_cluster_distances.items():\n",
    "        slider_step = dict(\n",
    "            method=\"update\",\n",
    "            label=f\"{n_clusters} clusters\",\n",
    "            args=[{\"visible\": [False] * (len(accumulated_intra_cluster_distances) + 1)}]  # Hide all traces\n",
    "        )\n",
    "        slider_step[\"args\"][0][\"visible\"][list(accumulated_intra_cluster_distances.keys()).index(n_clusters) + 1] = True  # Show selected trace\n",
    "        slider_steps.append(slider_step)\n",
    "\n",
    "    # Add histogram traces for intra-cluster distances\n",
    "    for n_clusters, intra_cluster_distances in accumulated_intra_cluster_distances.items():\n",
    "        n_bins = 20\n",
    "        binsize = 1 / n_bins\n",
    "        fig.add_trace(go.Histogram(x=intra_cluster_distances, histnorm='probability', name=f'{n_clusters} clusters', nbinsx=n_bins, xbins=dict(size=binsize), visible=False))\n",
    "\n",
    "    # Set initial visibility\n",
    "    fig.data[0].visible = True\n",
    "\n",
    "    # Create slider\n",
    "    fig.update_layout(\n",
    "        sliders=[dict(\n",
    "            active=0,\n",
    "            currentvalue={\"prefix\": \"Number of clusters: \"},\n",
    "            steps=slider_steps,\n",
    "            y=-0.15,  # Adjust the y position of the slider\n",
    "            len=1  # Adjust the length of the slider\n",
    "        )]\n",
    "    )\n",
    "\n",
    "    # Set layout\n",
    "    fig.update_layout(\n",
    "        barmode='overlay',\n",
    "        xaxis_title=\"Pairwise distance\",\n",
    "        yaxis_title=\"Probability\",\n",
    "        title=\"Intra-cluster distances\",\n",
    "        xaxis=dict(\n",
    "            title=dict(\n",
    "                text=\"Pairwise distance\",\n",
    "                standoff=15\n",
    "            ),\n",
    "            range=[0, 1]  # Set the x-axis range between 0 and 1\n",
    "        ),\n",
    "        yaxis=dict(\n",
    "            range=[0, 1]  # Set the x-axis range between 0 and 1\n",
    "        )\n",
    "    )\n",
    "    fig.update_traces(opacity=0.75)\n",
    "    return fig"
   ]
  },
  {
   "cell_type": "code",
   "execution_count": null,
   "metadata": {},
   "outputs": [],
   "source": [
    "fig = plot_intra_cluster_distances(accumulated_intra_cluster_distances, centroid_pairwise_distances)\n",
    "fig.show()"
   ]
  },
  {
   "cell_type": "code",
   "execution_count": null,
   "metadata": {},
   "outputs": [],
   "source": [
    "n_clusters = 500\n",
    "\n",
    "# Plotting histograms of pairwise distances for centroids and a specific intracluster\n",
    "plt.figure(figsize=(10, 6))\n",
    "\n",
    "# Adding histogram for centroids pairwise distances\n",
    "centroid_idxs = find_centroids(X_activations, activation_clusters, n_clusters)\n",
    "pairwise_distances_centroids = find_pairwise_distances(X_activations[centroid_idxs], angular=False)\n",
    "plt.hist(pairwise_distances_centroids.flatten(), bins=100, alpha=0.5, label='Centroids of all clusters', density=True)\n",
    "\n",
    "# Adding histogram for intracluster pairwise distances\n",
    "for cluster_idx in range(n_clusters):\n",
    "    cluster_mask = t.tensor(activation_clusters[str(n_clusters)]) == cluster_idx\n",
    "    cluster = X_activations[cluster_mask]\n",
    "    pairwise_distances_intracluster = find_pairwise_distances(cluster, angular=False)\n",
    "    plt.hist(pairwise_distances_intracluster.flatten(), bins=100, alpha=0.5, label=f'Cluster {cluster_idx}', density=True)\n",
    "\n",
    "# Set labels and title\n",
    "plt.xlabel('Pairwise Cosine similarity')\n",
    "plt.ylabel('Ratio of distance in histogram bin')\n",
    "plt.title('Pairwise Distances: Intracluster vs. Centroids')\n",
    "\n",
    "# Show legend\n",
    "# plt.legend()\n",
    "\n",
    "# Show the plot\n",
    "plt.show()"
   ]
  },
  {
   "cell_type": "markdown",
   "metadata": {},
   "source": [
    "## Linear Effects"
   ]
  },
  {
   "cell_type": "code",
   "execution_count": null,
   "metadata": {},
   "outputs": [],
   "source": [
    "data_source = \"lin_effects\" # activations or lin_effects\n",
    "cluster_filename = f\"clusters_lin_effects_posfinal.json\"\n",
    "lin_effect_clusters = json.load(open(os.path.join(results_dir, cluster_filename), \"r\"))\n",
    "X_lin_eff = load_pattern_matrix_final_pos(results_dir, data_source, ccfg)"
   ]
  },
  {
   "cell_type": "code",
   "execution_count": null,
   "metadata": {},
   "outputs": [],
   "source": [
    "n_clusters = 500\n",
    "\n",
    "# Plotting histograms of pairwise distances for centroids and a specific intracluster\n",
    "plt.figure(figsize=(10, 6))\n",
    "\n",
    "# Adding histogram for centroids pairwise distances\n",
    "centroid_idxs = find_centroids(X_lin_eff, lin_effect_clusters, n_clusters)\n",
    "pairwise_distances_centroids = find_pairwise_distances(X_lin_eff[centroid_idxs], angular=False)\n",
    "plt.hist(pairwise_distances_centroids.flatten(), bins=100, alpha=0.5, label='Centroids of all clusters', density=True)\n",
    "\n",
    "# Adding histogram for intracluster pairwise distances\n",
    "for cluster_idx in range(n_clusters):\n",
    "    cluster_mask = t.tensor(lin_effect_clusters[str(n_clusters)]) == cluster_idx\n",
    "    cluster = X_lin_eff[cluster_mask]\n",
    "    pairwise_distances_intracluster = find_pairwise_distances(cluster, angular=False)\n",
    "    plt.hist(pairwise_distances_intracluster.flatten(), bins=100, alpha=0.5, label=f'Cluster {cluster_idx}', density=True)\n",
    "\n",
    "# Set labels and title\n",
    "plt.xlabel('Pairwise Cosine similarity')\n",
    "plt.ylabel('Ratio of distance in histogram bin')\n",
    "plt.title('Pairwise Distances: Intracluster vs. Centroids')\n",
    "\n",
    "# Show legend\n",
    "# plt.legend()\n",
    "\n",
    "# Show the plot\n",
    "plt.show()"
   ]
  },
  {
   "cell_type": "code",
   "execution_count": null,
   "metadata": {},
   "outputs": [],
   "source": [
    "# Plotly histogram with slider for n_clusters\n",
    "fig = go.Figure()\n"
   ]
  },
  {
   "cell_type": "code",
   "execution_count": null,
   "metadata": {},
   "outputs": [],
   "source": [
    "# Plotting histograms of pairwise distances for centroids and a specific intracluster\n",
    "# fig = go.Figure()\n",
    "# # Adding histogram for centroids pairwise distances\n",
    "# fig.add_trace(go.Histogram(x=pairwise_distances_centroids.flatten(), name='Centroids of all clusters', histnorm='probability', nbinsx=100))\n",
    "\n",
    "# # Adding histogram for intracluster pairwise distances\n",
    "# for cluster_idx in range(n_clusters):\n",
    "#     cluster_mask = t.tensor(clusters[str(n_clusters)]) == cluster_idx\n",
    "#     cluster = X[cluster_mask]\n",
    "#     pairwise_distances_intracluster = find_pairwise_distances(cluster, angular=False)\n",
    "#     # if t.all(pairwise_distances_intracluster > 0):\n",
    "#     fig.add_trace(go.Histogram(x=pairwise_distances_intracluster.flatten(), name= f'Cluster {cluster_idx}', histnorm='probability', nbinsx=100))\n",
    "\n",
    "\n",
    "# # Update layout for clarity\n",
    "# fig.update_layout(barmode='overlay',  # Overlay both histograms\n",
    "#                   title_text='Pairwise Distances: Intracluster vs. Centroids',  # Title\n",
    "#                   xaxis_title_text='Pairwise Cosine similarity',  # X-axis label\n",
    "#                   yaxis_title_text='Ratio of distance in histogram bin',  # Y-axis label\n",
    "#                   legend_title_text='Clusters')  # Legend title\n",
    "# fig.update_traces(opacity=0.75)  # Set opacity to differentiate the overlaid histograms\n",
    "\n",
    "# fig.show()"
   ]
  },
  {
   "cell_type": "markdown",
   "metadata": {},
   "source": [
    "## Pairwise between random pattern vectors in X"
   ]
  },
  {
   "cell_type": "code",
   "execution_count": null,
   "metadata": {},
   "outputs": [],
   "source": [
    "# Compute random cosine similarities of X columns\n",
    "n_tries = 10000\n",
    "\n",
    "cos_sim_random_pairs = t.zeros(n_tries)\n",
    "for i in range(n_tries):\n",
    "    idxs = np.random.choice(X_activations.shape[0], 2, replace=False)\n",
    "    cos_sim_random_pairs[i] = t.cosine_similarity(X_activations[idxs[0]], X_activations[idxs[1]], dim=-1)"
   ]
  },
  {
   "cell_type": "code",
   "execution_count": null,
   "metadata": {},
   "outputs": [],
   "source": [
    "# Plotting histograms of pairwise distances for centroids and a specific intracluster\n",
    "plt.figure(figsize=(10, 6))\n",
    "\n",
    "# Adding histogram for centroids pairwise distances\n",
    "plt.hist(cos_sim_random_pairs, bins=100, alpha=0.5, density=True)\n",
    "\n",
    "# Set labels and title\n",
    "plt.xlabel('Pairwise Cosine similarity')\n",
    "plt.ylabel('Ratio of distance in histogram bin')\n",
    "plt.title('Cosine sim of random pairs of feature pattern vectors')\n",
    "plt.xlim(cos_sim_random_pairs.min(), 1)\n",
    "\n",
    "# Show the plot\n",
    "plt.show()"
   ]
  },
  {
   "cell_type": "markdown",
   "metadata": {},
   "source": [
    "# Random vector for comparison"
   ]
  },
  {
   "cell_type": "code",
   "execution_count": null,
   "metadata": {},
   "outputs": [],
   "source": [
    "X_rand = np.random.rand(1000, 10000) * 2 - 1"
   ]
  },
  {
   "cell_type": "code",
   "execution_count": null,
   "metadata": {},
   "outputs": [],
   "source": [
    "pairwise_random_distances = find_pairwise_distances(t.tensor(X_rand), angular=False)"
   ]
  },
  {
   "cell_type": "code",
   "execution_count": null,
   "metadata": {},
   "outputs": [],
   "source": [
    "plt.hist(pairwise_random_distances.flatten(), bins=100, alpha=0.5, label='Random');\n",
    "plt.xlim([-.005,1])"
   ]
  },
  {
   "cell_type": "code",
   "execution_count": null,
   "metadata": {},
   "outputs": [],
   "source": [
    "# Plotting histograms of pairwise distances for centroids and a specific intracluster\n",
    "fig = go.Figure()\n",
    "# Adding histogram for centroids pairwise distances\n",
    "fig.add_trace(go.Histogram(x=pairwise_random_distances.flatten(), name='Random Vectors', histnorm='probability', nbinsx=100))\n",
    "# Update layout for clarity\n",
    "fig.update_layout(barmode='overlay',  # Overlay both histograms\n",
    "                  title_text='Pairwise Distances: of random dense vectors in high dimensional space',  # Title\n",
    "                  xaxis_title_text='Pairwise Cosine similarity',  # X-axis label\n",
    "                  yaxis_title_text='Ratio of distance in histogram bin',  # Y-axis label\n",
    "                  legend_title_text='Sets')  # Legend title\n",
    "fig.update_traces(opacity=0.75)  # Set opacity to differentiate the overlaid histograms\n",
    "\n",
    "fig.show()"
   ]
  },
  {
   "cell_type": "markdown",
   "metadata": {},
   "source": [
    "Sanity check:\n",
    "Does the clustering algorithm pick up on clusters \n"
   ]
  },
  {
   "cell_type": "code",
   "execution_count": null,
   "metadata": {},
   "outputs": [],
   "source": []
  },
  {
   "cell_type": "code",
   "execution_count": null,
   "metadata": {},
   "outputs": [],
   "source": []
  },
  {
   "cell_type": "code",
   "execution_count": null,
   "metadata": {},
   "outputs": [],
   "source": [
    "# Load samples\n",
    "samples = json.load(open(os.path.join(results_dir, \"samples.json\"), \"r\"))\n",
    "\n",
    "# Filter samples for cluster 0\n",
    "sample_mask = t.arange(X.shape[0])[t.tensor(clusters[str(n_clusters)]) == 0]"
   ]
  },
  {
   "cell_type": "code",
   "execution_count": null,
   "metadata": {},
   "outputs": [],
   "source": [
    "from transformers import AutoTokenizer\n",
    "\n",
    "# Load samples\n",
    "resdir = \"/home/can/feature_clustering/clustering_pythia-70m-deduped_tloss0.1_nsamples8192_npos64_filtered-induction_mlp-attn-resid\"\n",
    "samples = json.load(open(os.path.join(resdir, \"samples.json\"), \"r\"))\n",
    "\n",
    "model_cache_dir = \"/home/can/feature_clustering/model_cache/\"\n",
    "# Load model and full dataset\n",
    "tokenizer = AutoTokenizer.from_pretrained(\n",
    "    f\"EleutherAI/{ccfg.model_name}\",\n",
    "    revision=f\"step{143000}\",\n",
    "    cache_dir=os.path.join(model_cache_dir, ccfg.model_name, f\"step{143000}\"),\n",
    ")\n",
    "\n",
    "for sample_idx in samples:\n",
    "    ctx = samples[sample_idx][\"context\"]\n",
    "    ids = tokenizer.encode(ctx)\n",
    "    samples[sample_idx][\"context\"] = [tokenizer.decode(i) for i in ids]\n",
    "\n",
    "# save samples\n",
    "json.dump(samples, open(os.path.join(results_dir, \"contexts_lin-effects_final1pos_nclusters500_clusteridx72.json\"), \"w\"), indent=4)"
   ]
  },
  {
   "cell_type": "code",
   "execution_count": 5,
   "metadata": {},
   "outputs": [
    {
     "data": {
      "text/plain": [
       "tensor(0., device='cuda:0')"
      ]
     },
     "execution_count": 5,
     "metadata": {},
     "output_type": "execute_result"
    }
   ],
   "source": [
    "import torch as t\n",
    "a = t.zeros(1000, 1000, device=\"cuda:0\").to_sparse()\n",
    "memory = a.element_size() * a.to_dense().nonzero().sum() * 2 / 1024**2\n",
    "memory"
   ]
  },
  {
   "cell_type": "code",
   "execution_count": 3,
   "metadata": {},
   "outputs": [
    {
     "data": {
      "text/plain": [
       "tensor(indices=tensor([], size=(2, 0)),\n",
       "       values=tensor([], size=(0,)),\n",
       "       device='cuda:0', size=(1000, 1000), nnz=0, layout=torch.sparse_coo)"
      ]
     },
     "execution_count": 3,
     "metadata": {},
     "output_type": "execute_result"
    }
   ],
   "source": [
    "dense"
   ]
  },
  {
   "cell_type": "code",
   "execution_count": null,
   "metadata": {},
   "outputs": [],
   "source": []
  }
 ],
 "metadata": {
  "kernelspec": {
   "display_name": "Python 3",
   "language": "python",
   "name": "python3"
  },
  "language_info": {
   "codemirror_mode": {
    "name": "ipython",
    "version": 3
   },
   "file_extension": ".py",
   "mimetype": "text/x-python",
   "name": "python",
   "nbconvert_exporter": "python",
   "pygments_lexer": "ipython3",
   "version": "3.8.10"
  }
 },
 "nbformat": 4,
 "nbformat_minor": 2
}

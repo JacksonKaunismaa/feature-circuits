{
 "cells": [
  {
   "cell_type": "code",
   "execution_count": 1,
   "metadata": {},
   "outputs": [],
   "source": [
    "import numpy as np\n",
    "import torch as t\n",
    "import os\n",
    "import matplotlib.pyplot as plt\n",
    "import json\n",
    "from tqdm import tqdm\n",
    "from collections import defaultdict"
   ]
  },
  {
   "cell_type": "code",
   "execution_count": 2,
   "metadata": {},
   "outputs": [],
   "source": [
    "model_name = \"pythia-70m-deduped\"\n",
    "n_feats_per_submod = 512 * 64\n",
    "n_submod = 6\n",
    "n_total_feats = n_feats_per_submod * n_submod\n",
    "random_seed = 42\n",
    "\n",
    "device = \"cuda:0\"\n",
    "num_svd_components = 900 # With 1024 components and percentage 0.9, truncation dim is 805\n",
    "singular_value_cutoff = 0.95\n",
    "\n",
    "activations_dir = \"/home/can/feature_clustering/activations\"\n",
    "svd_dir = \"/home/can/feature_clustering/svd\"\n",
    "loss_threshold = 0.03\n",
    "skip = 512\n",
    "num_tokens = 10000\n",
    "n_pos = 10\n",
    "submod_type_names = \"mlp\"\n",
    "\n",
    "\n",
    "score_metric = \"act-grad\"\n",
    "feature_pattern_reduction_across_positions = \"sum\" # \"sum\" or \"pos\"\n",
    "\n",
    "param_summary = f\"{model_name}_tloss{loss_threshold}_ntok{num_tokens}_skip{skip}_npos{n_pos}_{submod_type_names}\"\n",
    "svd_filename = f\"svd-comp{num_svd_components}_{score_metric}_{param_summary}.pt\""
   ]
  },
  {
   "cell_type": "code",
   "execution_count": 3,
   "metadata": {},
   "outputs": [],
   "source": [
    "contexts_y_filename = '/home/can/feature_clustering/contexts/contexts_pythia-70m-deduped_tloss0.03_ntok10000_skip512_npos10_mlp.json'\n",
    "contexts_y = json.load(open(contexts_y_filename, \"r\"))"
   ]
  },
  {
   "cell_type": "code",
   "execution_count": 4,
   "metadata": {},
   "outputs": [
    {
     "name": "stderr",
     "output_type": "stream",
     "text": [
      "Loading into matrix, Row: 100%|██████████| 10000/10000 [03:34<00:00, 46.51it/s]\n"
     ]
    },
    {
     "name": "stdout",
     "output_type": "stream",
     "text": [
      "X shape: torch.Size([10000, 196608])\n"
     ]
    }
   ],
   "source": [
    "# Load feature activations and gradients on 1k contexts\n",
    "act_grad_filename = f\"act-n-grad-cat_{param_summary}.json\"\n",
    "act_per_context = json.load(open(os.path.join(activations_dir, act_grad_filename), \"r\"))\n",
    "y_global_idx = np.array(list(act_per_context.keys()), dtype=int)\n",
    "num_y = len(act_per_context)\n",
    "\n",
    "X = t.zeros((num_y, n_total_feats))\n",
    "for row, context in tqdm(enumerate(act_per_context), desc=\"Loading into matrix, Row\", total=num_y):\n",
    "    for col, act, grad in act_per_context[context][feature_pattern_reduction_across_positions]:\n",
    "        col = int(col)\n",
    "        if score_metric == \"act\":\n",
    "            X[row, col] = act\n",
    "        elif score_metric == \"act-grad\":\n",
    "            X[row, col] = act * grad\n",
    "        else:\n",
    "            raise ValueError(\"Unknown score_metric\")\n",
    "X.to_sparse().to(device)\n",
    "print(f'X shape: {X.shape}')\n",
    "del act_per_context"
   ]
  },
  {
   "cell_type": "code",
   "execution_count": 5,
   "metadata": {},
   "outputs": [],
   "source": [
    "U, S, V = t.load(os.path.join(svd_dir, svd_filename))"
   ]
  },
  {
   "cell_type": "code",
   "execution_count": 6,
   "metadata": {},
   "outputs": [
    {
     "data": {
      "image/png": "[encoded data removed]",
      "text/plain": [
       "<Figure size 640x480 with 1 Axes>"
      ]
     },
     "metadata": {},
     "output_type": "display_data"
    }
   ],
   "source": [
    "# Plot singular values\n",
    "plt.plot(S)\n",
    "plt.title(\"Singular values\")\n",
    "plt.yscale(\"log\")\n",
    "plt.show()"
   ]
  },
  {
   "cell_type": "code",
   "execution_count": 7,
   "metadata": {},
   "outputs": [
    {
     "name": "stdout",
     "output_type": "stream",
     "text": [
      "Truncation dim: 431\n",
      "full dim: 900\n"
     ]
    }
   ],
   "source": [
    "# Truncate \n",
    "def find_cutoff_index_numpy(a):\n",
    "    # Step 1: Normalize the array\n",
    "    normalized_a = a / np.sum(a)\n",
    "\n",
    "    # Step 2: Find the cutoff index using np.cumsum\n",
    "    cumulative_sum = np.cumsum(normalized_a)\n",
    "\n",
    "    # Find the index where cumulative sum exceeds or equals 90%\n",
    "    cutoff_index = np.argmax(cumulative_sum >= singular_value_cutoff)\n",
    "\n",
    "    # Step 3: Return the cutoff index\n",
    "    return cutoff_index\n",
    "\n",
    "truncation_dim = find_cutoff_index_numpy(S.cpu().numpy())\n",
    "print(f\"Truncation dim: {truncation_dim}\")\n",
    "print(f'full dim: {S.shape[0]}')"
   ]
  },
  {
   "cell_type": "code",
   "execution_count": 7,
   "metadata": {},
   "outputs": [],
   "source": [
    "# Load_cluster_centroids"
   ]
  },
  {
   "cell_type": "code",
   "execution_count": 8,
   "metadata": {},
   "outputs": [],
   "source": [
    "# Take top (10) mechanism vector(s). To which clusters are they closest?\n",
    "# Whats the distribution of distances to closest to centroids?\n",
    "svd_dir = \"/home/can/feature_clustering/svd\"\n",
    "svd_filename = f\"svd-comp900_act_pythia-70m-deduped_tloss0.03_ntok10000_skip512_npos10_mlp.pt\"\n",
    "U, S, V = t.load(os.path.join(svd_dir, svd_filename))"
   ]
  },
  {
   "cell_type": "code",
   "execution_count": 10,
   "metadata": {},
   "outputs": [],
   "source": [
    "X_V = t.mm(X, V)\n",
    "most_important_mechanism = t.argsort(t.abs(X_V), dim=1, descending=True)[:, :2] # Tokens, d_SVD"
   ]
  },
  {
   "cell_type": "code",
   "execution_count": 11,
   "metadata": {},
   "outputs": [
    {
     "data": {
      "text/plain": [
       "torch.Size([10000, 900])"
      ]
     },
     "execution_count": 11,
     "metadata": {},
     "output_type": "execute_result"
    }
   ],
   "source": [
    "X_V.shape"
   ]
  },
  {
   "cell_type": "code",
   "execution_count": 12,
   "metadata": {},
   "outputs": [
    {
     "data": {
      "text/plain": [
       "(tensor([[  0, 287],\n",
       "         [  0, 287],\n",
       "         [  0,  76],\n",
       "         ...,\n",
       "         [  0, 252],\n",
       "         [  0, 586],\n",
       "         [  0,   1]]),\n",
       " tensor([1, 1]))"
      ]
     },
     "execution_count": 12,
     "metadata": {},
     "output_type": "execute_result"
    }
   ],
   "source": [
    "most_important_mechanism.unique(return_counts=True, dim=1)"
   ]
  },
  {
   "cell_type": "code",
   "execution_count": 16,
   "metadata": {},
   "outputs": [
    {
     "name": "stdout",
     "output_type": "stream",
     "text": [
      "0\n"
     ]
    }
   ],
   "source": [
    "mech = t.tensor([0, 3])\n",
    "important_mechanism_mask = (most_important_mechanism == mech).all(dim=1)\n",
    "gt_idxs = y_global_idx[important_mechanism_mask]\n",
    "\n",
    "als = defaultdict()\n",
    "i = 0\n",
    "for idx in gt_idxs:\n",
    "    print(contexts_y[str(idx)][\"context\"])\n",
    "    print('\\n___________________________\\n')\n",
    "    als[contexts_y[str(idx)][\"y\"]] = contexts_y[str(idx)][\"context\"]\n",
    "    i += 1\n",
    "\n",
    "print(i)\n",
    "\n",
    "with open(\"/home/can/feature_clustering/clusters/9900/code_and_math_contexts.json\", \"w\") as f:\n",
    "    json.dump(als, f)"
   ]
  },
  {
   "cell_type": "code",
   "execution_count": 6,
   "metadata": {},
   "outputs": [],
   "source": [
    "# read code and math contexts json\n",
    "with open(\"./code_and_math_contexts.json\", \"r\") as f:\n",
    "    als = json.load(f)"
   ]
  },
  {
   "cell_type": "code",
   "execution_count": 7,
   "metadata": {},
   "outputs": [
    {
     "name": "stderr",
     "output_type": "stream",
     "text": [
      "Special tokens have been added in the vocabulary, make sure the associated word embeddings are fine-tuned or trained.\n"
     ]
    }
   ],
   "source": [
    "from transformers import AutoTokenizer\n",
    "model_cache_dir = \"/home/can/feature_clustering/model_cache/\"\n",
    "model_name = 'pythia-70m-deduped'\n",
    "\n",
    "tokenizer = AutoTokenizer.from_pretrained(\n",
    "        f\"EleutherAI/{model_name}\",\n",
    "        revision=f\"step{143000}\",\n",
    "        cache_dir=os.path.join(model_cache_dir, model_name, f\"step{143000}\"),\n",
    "    )\n",
    "\n",
    "# convert keys of als to list of token strings\n",
    "\n",
    "for k in als:\n",
    "    als[k] = tokenizer.tokenize(als[k])\n",
    "\n",
    "# overwrite old dict with new dict\n",
    "with open(\"./code_and_math_contexts.json\", \"w\") as f:\n",
    "    json.dump(als, f)"
   ]
  },
  {
   "cell_type": "code",
   "execution_count": null,
   "metadata": {},
   "outputs": [],
   "source": []
  }
 ],
 "metadata": {
  "kernelspec": {
   "display_name": "Python 3",
   "language": "python",
   "name": "python3"
  },
  "language_info": {
   "codemirror_mode": {
    "name": "ipython",
    "version": 3
   },
   "file_extension": ".py",
   "mimetype": "text/x-python",
   "name": "python",
   "nbconvert_exporter": "python",
   "pygments_lexer": "ipython3",
   "version": "3.8.10"
  }
 },
 "nbformat": 4,
 "nbformat_minor": 2
}

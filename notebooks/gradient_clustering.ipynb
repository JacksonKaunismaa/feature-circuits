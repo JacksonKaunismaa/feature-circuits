{
 "cells": [
  {
   "cell_type": "code",
   "execution_count": 1,
   "metadata": {},
   "outputs": [
    {
     "name": "stderr",
     "output_type": "stream",
     "text": [
      "/home/can/.local/lib/python3.8/site-packages/tqdm/auto.py:21: TqdmWarning: IProgress not found. Please update jupyter and ipywidgets. See https://ipywidgets.readthedocs.io/en/stable/user_install.html\n",
      "  from .autonotebook import tqdm as notebook_tqdm\n"
     ]
    }
   ],
   "source": [
    "import zstandard as zstd\n",
    "import io\n",
    "import json\n",
    "import torch as t\n",
    "import einops\n",
    "from nnsight import LanguageModel\n",
    "\n",
    "import sys\n",
    "sys.path.append('../')\n",
    "from loading_utils import load_submodule_and_dictionary, DictionaryCfg"
   ]
  },
  {
   "cell_type": "code",
   "execution_count": 2,
   "metadata": {},
   "outputs": [
    {
     "name": "stderr",
     "output_type": "stream",
     "text": [
      "Special tokens have been added in the vocabulary, make sure the associated word embeddings are fine-tuned or trained.\n"
     ]
    }
   ],
   "source": [
    "model = LanguageModel('EleutherAI/pythia-70m-deduped', device_map='cuda:0')\n",
    "\n",
    "dictionary_dir = \"/share/projects/dictionary_circuits/autoencoders/pythia-70m-deduped\"\n",
    "dictionary_size = 32768\n",
    "submodule, dictionary = load_submodule_and_dictionary(\n",
    "    model, \n",
    "    submod_name='model.gpt_neox.layers.5.mlp.dense_4h_to_h',\n",
    "    dict_cfg=DictionaryCfg(dictionary_dir, dictionary_size)\n",
    ")"
   ]
  },
  {
   "cell_type": "code",
   "execution_count": 3,
   "metadata": {},
   "outputs": [],
   "source": [
    "# set up data as a generator\n",
    "data_path = '/share/data/datasets/pile/the-eye.eu/public/AI/pile/train/00.jsonl.zst'\n",
    "compressed_file = open(data_path, 'rb')\n",
    "dctx = zstd.ZstdDecompressor()\n",
    "reader = dctx.stream_reader(compressed_file)\n",
    "text_stream = io.TextIOWrapper(reader, encoding='utf-8')\n",
    "\n",
    "def generator():\n",
    "    for line in text_stream:\n",
    "        yield json.loads(line)['text']\n",
    "data = generator()\n",
    "\n",
    "def text_batch(batch_size):\n",
    "        \"\"\"\n",
    "        Return a list of text\n",
    "        \"\"\"\n",
    "        return [\n",
    "            next(data) for _ in range(batch_size)\n",
    "        ]\n",
    "\n",
    "def tokenized_batch(model, ctx_len, batch_size):\n",
    "        \"\"\"\n",
    "        Return a batch of tokenized inputs.\n",
    "        \"\"\"\n",
    "        texts = text_batch(batch_size=batch_size)\n",
    "        return model.tokenizer(\n",
    "            texts,\n",
    "            return_tensors='pt',\n",
    "            max_length=ctx_len,\n",
    "            padding=True,\n",
    "            truncation=True\n",
    "        )"
   ]
  },
  {
   "cell_type": "code",
   "execution_count": 4,
   "metadata": {},
   "outputs": [
    {
     "name": "stdout",
     "output_type": "stream",
     "text": [
      "shape of prompt_tokid: torch.Size([1, 99])\n",
      "prompt:\n",
      "It is done, and submitted. You can play “Survival of the Tastiest” on Android, and on the web. Playing on the web works, but you have to simulate multi-touch for table moving and that can be a bit confusing.\n",
      "\n",
      "There’s a lot I’d like to talk about. I’ll go through every topic, insted of making the typical what went right/wrong list.\n",
      "\n",
      "Concept\n",
      "\n",
      "Working over the theme was probably\n"
     ]
    }
   ],
   "source": [
    "len_tokenized_prompt = 100\n",
    "\n",
    "prompt_str = next(data)\n",
    "prompt_tokid = model.tokenizer.encode(prompt_str, return_tensors='pt')[:, :len_tokenized_prompt]\n",
    "\n",
    "prompt_prefix = prompt_tokid[:, :-1]\n",
    "prompt_final_tok = prompt_tokid[:, -1:]\n",
    "\n",
    "print(f'shape of prompt_tokid: {prompt_prefix.shape}')\n",
    "print(f'prompt:\\n{model.tokenizer.decode(prompt_tokid[0])}')"
   ]
  },
  {
   "cell_type": "code",
   "execution_count": 5,
   "metadata": {},
   "outputs": [],
   "source": [
    "# Define metric as final token logit\n",
    "def metric_fn(model):\n",
    "    logits = model.embed_out.output\n",
    "    batch_size = logits.shape[0]\n",
    "    return logits[t.arange(batch_size), -1, prompt_final_tok]"
   ]
  },
  {
   "cell_type": "markdown",
   "metadata": {},
   "source": [
    "## Feature Gradients"
   ]
  },
  {
   "cell_type": "code",
   "execution_count": 9,
   "metadata": {},
   "outputs": [
    {
     "name": "stderr",
     "output_type": "stream",
     "text": [
      "/home/can/.local/lib/python3.8/site-packages/nnsight/util.py:48: UserWarning: The .grad attribute of a Tensor that is not a leaf Tensor is being accessed. Its .grad attribute won't be populated during autograd.backward(). If you indeed want the .grad field to be populated for a non-leaf Tensor, use .retain_grad() on the non-leaf Tensor. If you access the non-leaf Tensor by mistake, make sure you access the leaf Tensor instead. See github.com/pytorch/pytorch/pull/30531 for more informations. (Triggered internally at aten/src/ATen/core/TensorBody.h:489.)\n",
      "  object = getattr(object, atom)\n"
     ]
    },
    {
     "ename": "ValueError",
     "evalue": "Accessing Proxy value before it's been set.",
     "output_type": "error",
     "traceback": [
      "\u001b[0;31m---------------------------------------------------------------------------\u001b[0m",
      "\u001b[0;31mValueError\u001b[0m                                Traceback (most recent call last)",
      "Cell \u001b[0;32mIn[9], line 16\u001b[0m\n\u001b[1;32m     13\u001b[0m     metric_clean \u001b[38;5;241m=\u001b[39m metric_fn(model)\u001b[38;5;241m.\u001b[39msave()\n\u001b[1;32m     14\u001b[0m metric_clean\u001b[38;5;241m.\u001b[39mvalue\u001b[38;5;241m.\u001b[39msum()\u001b[38;5;241m.\u001b[39mbackward()\n\u001b[0;32m---> 16\u001b[0m \u001b[38;5;28mprint\u001b[39m(\u001b[38;5;124mf\u001b[39m\u001b[38;5;124m'\u001b[39m\u001b[38;5;124mfeature_act.shape: \u001b[39m\u001b[38;5;132;01m{\u001b[39;00mf_act\u001b[38;5;241m.\u001b[39mvalue\u001b[38;5;132;01m}\u001b[39;00m\u001b[38;5;124m'\u001b[39m)\n\u001b[1;32m     17\u001b[0m \u001b[38;5;28mprint\u001b[39m(\u001b[38;5;124mf\u001b[39m\u001b[38;5;124m'\u001b[39m\u001b[38;5;124mfeature_act.grad.shape:\u001b[39m\u001b[38;5;124m'\u001b[39m)\n\u001b[1;32m     18\u001b[0m \u001b[38;5;28mprint\u001b[39m(f_grad\u001b[38;5;241m.\u001b[39mvalue)\n",
      "File \u001b[0;32m~/.local/lib/python3.8/site-packages/nnsight/intervention.py:128\u001b[0m, in \u001b[0;36mInterventionProxy.value\u001b[0;34m(self)\u001b[0m\n\u001b[1;32m    121\u001b[0m \u001b[38;5;250m\u001b[39m\u001b[38;5;124;03m\"\"\"Property to return the value of this proxy's node.\u001b[39;00m\n\u001b[1;32m    122\u001b[0m \n\u001b[1;32m    123\u001b[0m \u001b[38;5;124;03mReturns:\u001b[39;00m\n\u001b[1;32m    124\u001b[0m \u001b[38;5;124;03m    Any: The stored value of the proxy, populated during execution of the model.\u001b[39;00m\n\u001b[1;32m    125\u001b[0m \u001b[38;5;124;03m\"\"\"\u001b[39;00m\n\u001b[1;32m    127\u001b[0m \u001b[38;5;28;01mif\u001b[39;00m \u001b[38;5;28mself\u001b[39m\u001b[38;5;241m.\u001b[39mnode\u001b[38;5;241m.\u001b[39mvalue \u001b[38;5;129;01mis\u001b[39;00m inspect\u001b[38;5;241m.\u001b[39m_empty:\n\u001b[0;32m--> 128\u001b[0m     \u001b[38;5;28;01mraise\u001b[39;00m \u001b[38;5;167;01mValueError\u001b[39;00m(\u001b[38;5;124m\"\u001b[39m\u001b[38;5;124mAccessing Proxy value before it\u001b[39m\u001b[38;5;124m'\u001b[39m\u001b[38;5;124ms been set.\u001b[39m\u001b[38;5;124m\"\u001b[39m)\n\u001b[1;32m    130\u001b[0m \u001b[38;5;28;01mreturn\u001b[39;00m \u001b[38;5;28mself\u001b[39m\u001b[38;5;241m.\u001b[39mnode\u001b[38;5;241m.\u001b[39mvalue\n",
      "\u001b[0;31mValueError\u001b[0m: Accessing Proxy value before it's been set."
     ]
    }
   ],
   "source": [
    "# Cache the gradients of the correct logit w.r.t dictionary features \n",
    "\n",
    "with model.invoke(prompt_prefix, fwd_args={'inference' : False}) as invoker:\n",
    "    # Cache feature activations\n",
    "    x = submodule.output\n",
    "    f_act = dictionary.encode(x)\n",
    "    f_grad = f_act.grad.save()\n",
    "\n",
    "    # Cache feature gradients\n",
    "    x_hat = dictionary.decode(f_act)\n",
    "    residual = (x - x_hat).detach()\n",
    "    submodule.output = x_hat + residual\n",
    "    metric_clean = metric_fn(model).save()\n",
    "metric_clean.value.sum().backward()\n",
    "\n",
    "print(f'feature_act.shape: {f_act.value}')\n",
    "print(f'feature_act.grad.shape:')\n",
    "print(f_grad.value)"
   ]
  },
  {
   "cell_type": "code",
   "execution_count": 49,
   "metadata": {},
   "outputs": [],
   "source": [
    "# Error reproduction\n",
    "\n",
    "# def metric_fn(model):\n",
    "#     logits = model.embed_out.output\n",
    "#     batch_size = logits.shape[0]\n",
    "#     return logits[t.arange(batch_size), -1, prompt_final_tok]\n",
    "\n",
    "# with model.invoke('Hello World', fwd_args={'inference' : False}) as invoker:\n",
    "#     x = submodule.output\n",
    "#     x.retain_grad()\n",
    "#     x_clean = x.save()\n",
    "#     metric_clean = metric_fn(model).save()\n",
    "# metric_clean.value.sum().backward()\n",
    "\n",
    "# print(f'metric_clean: {metric_clean.value}')\n",
    "# print(f'x_clean: {x_clean.value}')\n",
    "# print(f'x_clean.grad:')\n",
    "# print(x_clean.grad.value)"
   ]
  },
  {
   "cell_type": "markdown",
   "metadata": {},
   "source": [
    "## Feature activations"
   ]
  },
  {
   "cell_type": "code",
   "execution_count": 50,
   "metadata": {},
   "outputs": [],
   "source": [
    "text_batch_size = 64\n",
    "ctx_len = 64\n",
    "prompt_batch_tokid = tokenized_batch(model, ctx_len, text_batch_size)['input_ids']\n",
    "\n",
    "prompt_batch_prefix = prompt_batch_tokid[:, :-1]\n",
    "prompt_batch_final_tok = prompt_batch_tokid[:, -1:]"
   ]
  },
  {
   "cell_type": "code",
   "execution_count": 51,
   "metadata": {},
   "outputs": [],
   "source": [
    "# Define metric as final token logit\n",
    "def metric_final_token_logit_batch(model):\n",
    "    logits = model.embed_out.output\n",
    "    batch_size = logits.shape[0]\n",
    "    return logits[t.arange(batch_size), -1, prompt_batch_final_tok]"
   ]
  },
  {
   "cell_type": "code",
   "execution_count": 52,
   "metadata": {},
   "outputs": [
    {
     "name": "stderr",
     "output_type": "stream",
     "text": [
      "You're using a GPTNeoXTokenizerFast tokenizer. Please note that with a fast tokenizer, using the `__call__` method is faster than using a method to encode the text followed by a call to the `pad` method to get a padded encoding.\n"
     ]
    },
    {
     "data": {
      "text/plain": [
       "torch.Size([64, 63, 32768])"
      ]
     },
     "execution_count": 52,
     "metadata": {},
     "output_type": "execute_result"
    }
   ],
   "source": [
    "with model.invoke(prompt_batch_prefix) as invoker:\n",
    "    mlp_act = submodule.output\n",
    "    f_act = dictionary.encode(mlp_act).save()\n",
    "\n",
    "f_act.shape"
   ]
  },
  {
   "cell_type": "code",
   "execution_count": 53,
   "metadata": {},
   "outputs": [
    {
     "data": {
      "text/plain": [
       "(4032, 32768)"
      ]
     },
     "execution_count": 53,
     "metadata": {},
     "output_type": "execute_result"
    }
   ],
   "source": [
    "feat_vecs = einops.rearrange(f_act.value, 'b p d -> (b p) d').to('cpu').detach().numpy()\n",
    "feat_vecs.shape"
   ]
  },
  {
   "cell_type": "markdown",
   "metadata": {},
   "source": [
    "### Cosine sim"
   ]
  },
  {
   "cell_type": "code",
   "execution_count": 54,
   "metadata": {},
   "outputs": [],
   "source": [
    "import numpy as np \n",
    "from sklearn.cluster import KMeans\n",
    "from sklearn.metrics.pairwise import cosine_similarity\n",
    "from sklearn.preprocessing import normalize\n",
    "\n",
    "# Normalize feature vectors\n",
    "norm = normalize(feat_vecs, axis=1, norm='l2')\n",
    "\n",
    "# Similarity matrix\n",
    "sim = cosine_similarity(norm)  \n"
   ]
  },
  {
   "cell_type": "code",
   "execution_count": 55,
   "metadata": {},
   "outputs": [],
   "source": [
    "prompt_list = einops.rearrange(prompt_batch_tokid, 'b p -> (b p)')"
   ]
  },
  {
   "cell_type": "code",
   "execution_count": 56,
   "metadata": {},
   "outputs": [
    {
     "name": "stdout",
     "output_type": "stream",
     "text": [
      "tokenized prompt:  to\n",
      "\t\n",
      "\n",
      "\t to\n",
      "\t13\n",
      "\t some\n",
      "\t worst\n",
      "\t  \n",
      "\t trans\n",
      "\t got\n",
      "\tTi\n",
      "\t to\n",
      "\n",
      "\n",
      "tokenized prompt: col\n",
      "\t but\n",
      "\t b\n",
      "\tWe\n",
      "\t is\n",
      "\t,\n",
      "\t?\n",
      "\t this\n",
      "\tcol\n",
      "\t-\n",
      "\t.\n",
      "\n",
      "\n",
      "tokenized prompt: Ad\n",
      "\t every\n",
      "\t about\n",
      "\t school\n",
      "\tvent\n",
      "\t herein\n",
      "\tjamin\n",
      "\touts\n",
      "\tbalanced\n",
      "\tAd\n",
      "\t,\n",
      "\n",
      "\n",
      "tokenized prompt:  tissue\n",
      "\t ultrasound\n",
      "\t perform\n",
      "\t sad\n",
      "\tos\n",
      "\t bone\n",
      "\t\n",
      "\n",
      "\t tissue\n",
      "\t thought\n",
      "\t never\n",
      "\t K\n",
      "\n",
      "\n",
      "tokenized prompt:  are\n",
      "\t for\n",
      "\t industrial\n",
      "\t\n",
      "\n",
      "\t environment\n",
      "\t.\n",
      "\t alcohol\n",
      "\t are\n",
      "\tent\n",
      "\t EPS\n",
      "\tPs\n",
      "\n",
      "\n",
      "tokenized prompt:  post\n",
      "\t…\n",
      "\t will\n",
      "\t recording\n",
      "\tTi\n",
      "\tEx\n",
      "\t.\n",
      "\t show\n",
      "\t\n",
      "\n",
      "\t post\n",
      "\t some\n",
      "\n",
      "\n",
      "tokenized prompt: .\n",
      "\t augmented\n",
      "\t the\n",
      "\t database\n",
      "\t script\n",
      "\t combined\n",
      "\t a\n",
      "\t saving\n",
      "\t reality\n",
      "\t a\n",
      "\t.\n",
      "\n",
      "\n",
      "tokenized prompt:  the\n",
      "\t teaching\n",
      "\t happening\n",
      "\t and\n",
      "\t meeting\n",
      "\t work\n",
      "\t the\n",
      "\t like\n",
      "\tfact\n",
      "\tThis\n",
      "\t The\n",
      "\n",
      "\n",
      "tokenized prompt: ,\n",
      "\t hand\n",
      "\t,\n",
      "\t one\n",
      "\t Democratic\n",
      "\t refractory\n",
      "\t patients\n",
      "\t,\n",
      "\tUSE\n",
      "\t could\n",
      "\t the\n",
      "\n",
      "\n",
      "tokenized prompt: pires\n",
      "\t patients\n",
      "\t trio\n",
      "\t tem\n",
      "\t a\n",
      "\t and\n",
      "\t —\n",
      "\tpires\n",
      "\tES\n",
      "\t plotting\n",
      "\t am\n",
      "\n",
      "\n"
     ]
    }
   ],
   "source": [
    "k = 10\n",
    "looking_at = np.random.choice(len(prompt_list), 10)\n",
    "\n",
    "for i in looking_at:\n",
    "    print(f'tokenized prompt: {model.tokenizer.decode(prompt_list[i])}')\n",
    "    indices = np.argpartition(sim[i], -k)[-k:]\n",
    "    for index in indices:\n",
    "        print(f'\\t{model.tokenizer.decode(prompt_list[index])}')\n",
    "    print('\\n')"
   ]
  },
  {
   "cell_type": "markdown",
   "metadata": {},
   "source": [
    "### Spectral clustering w/ cosine similarity"
   ]
  },
  {
   "cell_type": "code",
   "execution_count": 57,
   "metadata": {},
   "outputs": [
    {
     "name": "stdout",
     "output_type": "stream",
     "text": [
      "[11 47 47 ... 11 39 11]\n"
     ]
    },
    {
     "name": "stderr",
     "output_type": "stream",
     "text": [
      "/home/can/.local/lib/python3.8/site-packages/sklearn/cluster/_kmeans.py:1416: FutureWarning: The default value of `n_init` will change from 10 to 'auto' in 1.4. Set the value of `n_init` explicitly to suppress the warning\n",
      "  super()._check_params_vs_input(X, default_n_init=10)\n"
     ]
    }
   ],
   "source": [
    "# Degree matrix\n",
    "deg = np.diag(np.sum(sim, axis=1))\n",
    "\n",
    "# Graph Laplacian\n",
    "lap = deg - sim\n",
    "\n",
    "# Eigen decomposition  \n",
    "w, v = np.linalg.eigh(lap)\n",
    "\n",
    "# Extract second smallest eigenvector    \n",
    "eigenvector = v[:, 1]  \n",
    "\n",
    "# kMeans clustering\n",
    "kmeans = KMeans(n_clusters=50, random_state=0)\n",
    "kmeans.fit(eigenvector.reshape(-1,1)) \n",
    "\n",
    "print(kmeans.labels_)"
   ]
  },
  {
   "cell_type": "code",
   "execution_count": 58,
   "metadata": {},
   "outputs": [
    {
     "data": {
      "text/plain": [
       "(array([ 0,  1,  2,  3,  4,  5,  6,  7,  8,  9, 10, 11, 12, 13, 14, 15, 16,\n",
       "        17, 18, 19, 20, 21, 22, 23, 24, 25, 26, 27, 28, 29, 30, 31, 32, 33,\n",
       "        34, 35, 36, 37, 38, 39, 40, 41, 42, 43, 44, 45, 46, 47, 48, 49],\n",
       "       dtype=int32),\n",
       " array([  69,   11,    2,  705,    1,    1,   44,    1,   47,    1,    2,\n",
       "        1244,    1,   29,    1,    1,    2,   15,  230,   35,   32,    1,\n",
       "           1,  114,   20,    1,    1,   28,   20,    1,   29,   93,  478,\n",
       "           4,   47,   78,   35,  153,    1,  142,    1,    1,   35,   61,\n",
       "           1,    3,   33,  159,    7,   10]))"
      ]
     },
     "execution_count": 58,
     "metadata": {},
     "output_type": "execute_result"
    }
   ],
   "source": [
    "np.unique(kmeans.labels_, return_counts=True)"
   ]
  },
  {
   "cell_type": "code",
   "execution_count": 62,
   "metadata": {},
   "outputs": [
    {
     "data": {
      "image/png": "[encoded data removed]",
      "text/plain": [
       "<Figure size 640x480 with 1 Axes>"
      ]
     },
     "metadata": {},
     "output_type": "display_data"
    }
   ],
   "source": [
    "import matplotlib.pyplot as plt\n",
    "plt.hist(kmeans.labels_, bins=50);"
   ]
  },
  {
   "cell_type": "code",
   "execution_count": 70,
   "metadata": {},
   "outputs": [
    {
     "name": "stdout",
     "output_type": "stream",
     "text": [
      "<\n",
      " our\n",
      "\n",
      "\n",
      " of\n",
      " and\n",
      " was\n",
      "\n",
      "\n",
      "}\n",
      "\n",
      "\n",
      " list\n",
      " While\n",
      " de\n",
      "ú\n",
      "ación\n",
      " the\n",
      " movement\n",
      " role\n",
      "el\n",
      " comfortably\n",
      " body\n",
      " in\n",
      ".\n",
      ",\n",
      " standard\n",
      " Here\n",
      " properties\n",
      " pain\n",
      "\n",
      "\n",
      ".\n",
      " learned\n",
      ",\n",
      " always\n",
      " python\n",
      " environment\n",
      " are\n",
      " pregnancy\n",
      ")\n",
      " of\n",
      " phosphate\n",
      " of\n",
      " according\n",
      "prints\n",
      "r\n",
      " and\n",
      " defending\n",
      " new\n",
      "(\n",
      ",\n",
      "ter\n",
      " map\n",
      " benefit\n",
      " formed\n",
      " Indian\n",
      " Brothers\n",
      "\n",
      "\n",
      "426\n",
      " probably\n",
      " and\n",
      " in\n",
      "Today\n",
      " could\n",
      " vol\n",
      " the\n",
      "...\n",
      "aks\n",
      "ord\n",
      "Rog\n",
      "\n",
      "\n",
      " controllers\n",
      " P\n",
      " em\n",
      "ro\n",
      " read\n",
      " St\n",
      " how\n",
      " I\n",
      " news\n",
      "'s\n"
     ]
    }
   ],
   "source": [
    "cluster_idx = 35\n",
    "\n",
    "for idx, lbl in enumerate(kmeans.labels_):\n",
    "    if lbl == cluster_idx:\n",
    "        print(model.tokenizer.decode(prompt_list[idx]))"
   ]
  },
  {
   "cell_type": "markdown",
   "metadata": {},
   "source": [
    "### tSNE"
   ]
  },
  {
   "cell_type": "code",
   "execution_count": null,
   "metadata": {},
   "outputs": [],
   "source": []
  }
 ],
 "metadata": {
  "kernelspec": {
   "display_name": "Python 3",
   "language": "python",
   "name": "python3"
  },
  "language_info": {
   "codemirror_mode": {
    "name": "ipython",
    "version": 3
   },
   "file_extension": ".py",
   "mimetype": "text/x-python",
   "name": "python",
   "nbconvert_exporter": "python",
   "pygments_lexer": "ipython3",
   "version": "3.8.10"
  }
 },
 "nbformat": 4,
 "nbformat_minor": 2
}

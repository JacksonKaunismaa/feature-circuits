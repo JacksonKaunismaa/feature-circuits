{
 "cells": [
  {
   "cell_type": "code",
   "execution_count": 4,
   "metadata": {},
   "outputs": [
    {
     "name": "stderr",
     "output_type": "stream",
     "text": [
      "Special tokens have been added in the vocabulary, make sure the associated word embeddings are fine-tuned or trained.\n"
     ]
    },
    {
     "name": "stderr",
     "output_type": "stream",
     "text": [
      "You're using a GPTNeoXTokenizerFast tokenizer. Please note that with a fast tokenizer, using the `__call__` method is faster than using a method to encode the text followed by a call to the `pad` method to get a padded encoding.\n"
     ]
    },
    {
     "name": "stdout",
     "output_type": "stream",
     "text": [
      "tensor([[  510,  6773,   403, 17120,   275,   253]], device='cuda:0')\n",
      "tensor([[  510,  6773,   403, 17120,   275,   253,     0,     0,     0,     0,\n",
      "             0,     0,     0,     0,     0,     0]], device='cuda:0')\n",
      "{'input_ids': tensor([[  510,  6773,   403, 17120,   275,   253]]), 'attention_mask': tensor([[1, 1, 1, 1, 1, 1]])}\n",
      "{'input_ids': tensor([[  510,  6773,   403, 17120,   275,   253,     0,     0,     0,     0,\n",
      "             0,     0,     0,     0,     0,     0]]), 'attention_mask': tensor([[1, 1, 1, 1, 1, 1, 1, 1, 1, 1, 1, 1, 1, 1, 1, 1]])}\n"
     ]
    },
    {
     "data": {
      "text/plain": [
       "tensor(14.3666, device='cuda:0')"
      ]
     },
     "execution_count": 4,
     "metadata": {},
     "output_type": "execute_result"
    }
   ],
   "source": [
    "import torch as t\n",
    "from nnsight import LanguageModel\n",
    "\n",
    "device = 'cuda:0'\n",
    "\n",
    "model = LanguageModel('EleutherAI/pythia-70m-deduped', device_map=device)\n",
    "\n",
    "input = \"The fish are swimming in the\"\n",
    "\n",
    "n_pad = 10\n",
    "\n",
    "unpadded_input = model.tokenizer([input], return_tensors='pt').input_ids.to(device)\n",
    "padvec = t.zeros((1, n_pad)).to(device)\n",
    "padded_input_ids = t.concatenate((unpadded_input, padvec), dim=1).to(int)\n",
    "\n",
    "print(unpadded_input)\n",
    "print(padded_input_ids)\n",
    "\n",
    "with model.invoke(unpadded_input)as invoker:\n",
    "    print(invoker.input)\n",
    "    logits_nopad = model.embed_out.output[0,:2, :].save()\n",
    "with model.invoke(padded_input_ids) as invoker:\n",
    "    print(invoker.input)\n",
    "    logits_pad = model.embed_out.output[0,:2, :].save()\n",
    "(logits_nopad.value - logits_pad.value).abs().sum()"
   ]
  },
  {
   "cell_type": "code",
   "execution_count": null,
   "metadata": {},
   "outputs": [],
   "source": []
  }
 ],
 "metadata": {
  "kernelspec": {
   "display_name": "Python 3",
   "language": "python",
   "name": "python3"
  },
  "language_info": {
   "codemirror_mode": {
    "name": "ipython",
    "version": 3
   },
   "file_extension": ".py",
   "mimetype": "text/x-python",
   "name": "python",
   "nbconvert_exporter": "python",
   "pygments_lexer": "ipython3",
   "version": "3.8.10"
  }
 },
 "nbformat": 4,
 "nbformat_minor": 2
}

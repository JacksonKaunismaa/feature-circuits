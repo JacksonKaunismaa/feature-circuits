{
 "cells": [
  {
   "cell_type": "code",
   "execution_count": 3,
   "metadata": {},
   "outputs": [
    {
     "name": "stderr",
     "output_type": "stream",
     "text": [
      "/home/can/.local/lib/python3.8/site-packages/tqdm/auto.py:21: TqdmWarning: IProgress not found. Please update jupyter and ipywidgets. See https://ipywidgets.readthedocs.io/en/stable/user_install.html\n",
      "  from .autonotebook import tqdm as notebook_tqdm\n"
     ]
    }
   ],
   "source": [
    "import os\n",
    "import torch\n",
    "import numpy as np\n",
    "from nnsight import LanguageModel\n",
    "\n",
    "import sys\n",
    "sys.path.append('../')\n",
    "from loading_utils import load_submodule_and_dictionary, DictionaryCfg"
   ]
  },
  {
   "cell_type": "markdown",
   "metadata": {},
   "source": [
    "## Tokenize 20 datasets of the pile\n",
    "`quanta-discovery/misc/create_pile_canonical.py`\n",
    "\n",
    "## Evaluate model loss\n",
    "`quanta-discovery/scripts/evaluate_pile_losses.py`"
   ]
  },
  {
   "cell_type": "markdown",
   "metadata": {},
   "source": [
    "## Synthesize dataset with Tokens of low loss"
   ]
  },
  {
   "cell_type": "code",
   "execution_count": 4,
   "metadata": {},
   "outputs": [],
   "source": [
    "model_name = \"pythia-70m-deduped\"\n",
    "step = 143000\n",
    "device = \"cuda:0\"\n",
    "cache_dir = \"/home/can/feature_clustering/cache/\"\n",
    "pile_canonical = \"/home/can/data/pile_test_tokenized_200k/\"\n",
    "loss_threshold = 0.0001\n",
    "skip = 1\n",
    "num_tokens = 10000\n",
    "block_len = 250\n",
    "output_dir = \"/home/can/feature_clustering/results/\"\n",
    "filter = None\n",
    "verbose = True"
   ]
  },
  {
   "cell_type": "code",
   "execution_count": 5,
   "metadata": {},
   "outputs": [],
   "source": [
    "particular_model_cache_dir = os.path.join(cache_dir, model_name, f\"step{step}\")\n",
    "losses_cached = [f for f in os.listdir(particular_model_cache_dir) if f.endswith(\"losses.pt\")]\n",
    "max_i = max(list(range(len(losses_cached))), key=lambda i: int(losses_cached[i].split(\"_\")[0]))\n",
    "docs, tokens = int(losses_cached[max_i].split(\"_\")[0]), int(losses_cached[max_i].split(\"_\")[2])\n",
    "losses = torch.load(os.path.join(particular_model_cache_dir, f\"{docs}_docs_{tokens}_tokens_losses.pt\"))\n",
    "c = 1 / np.log(2) # for nats to bits conversion\n",
    "\n",
    "if filter:\n",
    "    criterias = torch.load(filter)\n",
    "    token_idxs = ((losses < (loss_threshold / c)) & (~criterias)).nonzero().flatten()\n",
    "else:\n",
    "    token_idxs = (losses < (loss_threshold / c)).nonzero().flatten()\n",
    "token_idxs = token_idxs[::skip]\n",
    "token_idxs = token_idxs[:num_tokens].tolist()\n",
    "assert len(token_idxs) == num_tokens, \"not enough tokens meeting loss threshold (and filter) to sample from\""
   ]
  },
  {
   "cell_type": "code",
   "execution_count": 6,
   "metadata": {},
   "outputs": [
    {
     "data": {
      "text/plain": [
       "[511, 794, 2268, 2961, 3308, 4089, 4174, 4189, 4191, 4194]"
      ]
     },
     "execution_count": 6,
     "metadata": {},
     "output_type": "execute_result"
    }
   ],
   "source": [
    "token_idxs[:10]"
   ]
  },
  {
   "cell_type": "markdown",
   "metadata": {},
   "source": [
    "## Save results for ~10K tokens\n",
    "- feature activation\n",
    "- gradient of correct logit w.r.t feature"
   ]
  },
  {
   "cell_type": "code",
   "execution_count": 2,
   "metadata": {},
   "outputs": [
    {
     "name": "stderr",
     "output_type": "stream",
     "text": [
      "Special tokens have been added in the vocabulary, make sure the associated word embeddings are fine-tuned or trained.\n"
     ]
    }
   ],
   "source": [
    "model = LanguageModel('EleutherAI/pythia-70m-deduped', device_map='cuda:0')\n",
    "\n",
    "dictionary_dir = \"/share/projects/dictionary_circuits/autoencoders/pythia-70m-deduped\"\n",
    "dictionary_size = 32768\n",
    "submodule, dictionary = load_submodule_and_dictionary(\n",
    "    model, \n",
    "    submod_name='model.gpt_neox.layers.5.mlp.dense_4h_to_h',\n",
    "    dict_cfg=DictionaryCfg(dictionary_dir, dictionary_size)\n",
    ")"
   ]
  },
  {
   "cell_type": "code",
   "execution_count": 12,
   "metadata": {},
   "outputs": [],
   "source": [
    "# Define metric as final token logit\n",
    "def metric_fn(model):\n",
    "    logits = model.embed_out.output\n",
    "    batch_size = logits.shape[0]\n",
    "    return logits[t.arange(batch_size), -1, prompt_batch_final_tok]"
   ]
  },
  {
   "cell_type": "markdown",
   "metadata": {},
   "source": []
  }
 ],
 "metadata": {
  "kernelspec": {
   "display_name": "Python 3",
   "language": "python",
   "name": "python3"
  },
  "language_info": {
   "codemirror_mode": {
    "name": "ipython",
    "version": 3
   },
   "file_extension": ".py",
   "mimetype": "text/x-python",
   "name": "python",
   "nbconvert_exporter": "python",
   "pygments_lexer": "ipython3",
   "version": "3.8.10"
  }
 },
 "nbformat": 4,
 "nbformat_minor": 2
}

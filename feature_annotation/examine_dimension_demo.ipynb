{
 "cells": [
  {
   "cell_type": "code",
   "execution_count": 1,
   "metadata": {},
   "outputs": [
    {
     "name": "stderr",
     "output_type": "stream",
     "text": [
      "/home/can/.local/lib/python3.8/site-packages/tqdm/auto.py:21: TqdmWarning: IProgress not found. Please update jupyter and ipywidgets. See https://ipywidgets.readthedocs.io/en/stable/user_install.html\n",
      "  from .autonotebook import tqdm as notebook_tqdm\n"
     ]
    }
   ],
   "source": [
    "import sys\n",
    "\n",
    "sys.path.insert(0, '../')\n",
    "\n",
    "import torch as t\n",
    "from nnsight import LanguageModel\n",
    "from dictionary_learning import ActivationBuffer\n",
    "from dictionary_learning.interp import examine_dimension\n",
    "from dictionary_learning.utils import zst_to_generator\n",
    "from loading_utils import load_submodules_and_dictionaries\n",
    "from circuitsvis.activations import text_neuron_activations\n",
    "import gc"
   ]
  },
  {
   "cell_type": "code",
   "execution_count": 2,
   "metadata": {},
   "outputs": [
    {
     "name": "stderr",
     "output_type": "stream",
     "text": [
      "Special tokens have been added in the vocabulary, make sure the associated word embeddings are fine-tuned or trained.\n"
     ]
    }
   ],
   "source": [
    "SEED = 42\n",
    "device = 'cuda:0'\n",
    "\n",
    "model = LanguageModel('EleutherAI/pythia-70m-deduped', device_map=device)\n",
    "submodules, submodule_names, dictionaries = load_submodules_and_dictionaries(\n",
    "        model,\n",
    "        use_attn=True,\n",
    "        use_mlp=True,\n",
    "        use_resid=True,\n",
    "        dict_path=\"/share/projects/dictionary_circuits/autoencoders/pythia-70m-deduped/\",\n",
    "        dict_size=512*64,\n",
    "        dict_run_name=\"5_32768\",\n",
    "        device=device,\n",
    ")\n",
    "submodule_names = {v: k for k, v in submodule_names.items()}"
   ]
  },
  {
   "cell_type": "code",
   "execution_count": 3,
   "metadata": {},
   "outputs": [
    {
     "name": "stdout",
     "output_type": "stream",
     "text": [
      "Inputs shape: 256, 13274\n"
     ]
    }
   ],
   "source": [
    "# Setup Buffer\n",
    "n_ctxs = 256\n",
    "ctx_len = 128\n",
    "data = zst_to_generator('/share/data/datasets/pile/the-eye.eu/public/AI/pile/train/00.jsonl.zst')\n",
    "buffer = ActivationBuffer(\n",
    "    data,\n",
    "    model,\n",
    "    [submodules[0]], # doesn't matter which submodule, we only use the buffer for contexts\n",
    "    out_feats=512,\n",
    "    in_batch_size=128,\n",
    "    n_ctxs=n_ctxs,\n",
    "    ctx_len=ctx_len,\n",
    "    device=device,\n",
    ")\n",
    "\n",
    "inputs = buffer.text_batch(batch_size=n_ctxs)\n",
    "print(f'Inputs shape: {len(inputs)}, {len(inputs[0])}')"
   ]
  },
  {
   "cell_type": "code",
   "execution_count": 9,
   "metadata": {},
   "outputs": [
    {
     "data": {
      "text/html": [
       "<div id=\"circuits-vis-d0b6ae4d-9956\" style=\"margin: 15px 0;\"/>\n",
       "    <script crossorigin type=\"module\">\n",
       "    import { render, TextNeuronActivations } from \"https://unpkg.com/circuitsvis@1.43.2/dist/cdn/esm.js\";\n",
       "    render(\n",
       "      \"circuits-vis-d0b6ae4d-9956\",\n",
       "      TextNeuronActivations,\n",
       "      {\"tokens\": [[\"Running\", \"\\n\", \"\\n\", \"Stat\", \"\\n\", \"\\n\", \"D\", \"inner\", \" with\", \" people\", \" is\", \" always\", \" better\", \" than\", \" eating\", \" alone\", \",\", \" especially\", \" when\", \" the\", \" food\", \" is\", \" good\", \".\", \" Good\", \" food\", \" tastes\", \" even\", \" better\", \" when\", \" enjoyed\", \" with\", \" people\", \".\", \" Tonight\", \" Amy\", \" came\", \" over\", \" to\", \" try\", \" my\", \" second\", \" attempt\", \" at\", \" the\", \" Brussels\", \" Spr\", \"outs\", \" Veg\", \"gie\", \" Soup\", \" to\", \" which\", \" I\", \" have\", \" made\", \" some\", \" changes\", \" (\", \"see\", \" recipe\", \" below\", \" in\", \" previous\", \" post\", \")\", \" for\", \" a\", \" better\", \" result\", \",\", \" I\", \" believe\", \".\", \"\\n\", \"\\n\", \"We\", \" were\", \" at\", \" the\", \" store\", \" earlier\"], [\"The\", \" Ghost\", \"s\", \" of\", \" Flight\", \" 191\", \" Judith\", \" and\", \" She\", \"ld\", \"on\", \" W\", \"ax\", \" were\", \" local\", \" literary\", \" figures\", \" \\u2014\", \" she\", \" an\", \" author\", \",\", \" he\", \" a\", \" top\", \" editor\", \" at\", \" Play\", \"boy\", \".\", \" Forty\", \" years\", \" ago\", \" this\", \" month\", \",\", \" they\", \" and\", \" 269\", \" other\", \" people\", \" boarded\", \" a\", \" plane\", \" to\", \" Los\", \" Angeles\", \".\", \" What\", \" happened\", \" next\", \" ha\", \"unts\", \" Chicago\", \" to\", \" this\", \" day\", \".\", \"\\n\", \"\\n\", \"As\", \" the\", \" plane\", \" plunged\", \" downward\", \",\", \" it\", \" kept\", \" rotating\", \" \\u2014\", \" past\", \" the\", \" point\", \" of\", \" perpendicular\", \",\", \" 112\", \" degrees\", \" now\", \" \\u2014\", \" toward\", \" a\", \" sick\", \"ening\", \" almost\", \" belly\", \"-\", \"up\", \" position\", \".\", \"\\n\", \"\\n\", \"Twenty\", \" seconds\", \" into\", \" the\", \" flight\", \",\", \" D\", \"illard\", \"\\u2019\", \"s\", \" earlier\"], [\"Div\", \"esting\", \" Of\", \" K\", \"ru\", \"ger\", \"\\u2019\", \"s\", \" Cash\", \" (\", \"Updated\", \")\", \"\\n\", \"\\n\", \"Fresh\", \"man\", \" Sen\", \".\", \" David\", \" Car\", \"lu\", \"cci\", \",\", \" one\", \" of\", \" 17\", \" Senate\", \" Democrats\", \" who\", \" received\", \" campaign\", \" contributions\", \" from\", \" Sen\", \".\", \" Carl\", \" K\", \"ru\", \"ger\", \" during\", \" the\", \" 2010\", \" election\", \" cycle\", \",\", \" is\", \" getting\", \" rid\", \" of\", \" that\", \" money\", \" after\", \" learning\", \" of\", \" the\", \" federal\", \" corruption\", \" charges\", \" lodged\", \" against\", \" his\", \" colleague\", \" earlier\"], [\"P\", \"urchase\", \" either\", \" a\", \" combined\", \" Build\", \"ings\", \" &\", \" Contents\", \" Home\", \" Insurance\", \" policy\", \",\", \" or\", \" separate\", \" Build\", \"ings\", \" or\", \" Contents\", \" Home\", \" Insurance\", \" Policy\", \" online\", \" at\", \" Little\", \"woods\", \".\", \"com\", \" between\", \" 1\", \"st\", \" and\", \" 31\", \"st\", \" August\", \" 2017\", \" to\", \" qualify\", \" for\", \" a\", \" free\", \" Amazon\", \" Echo\", \" Dot\"], [\"P\", \"urchase\", \" either\", \" a\", \" combined\", \" Build\", \"ings\", \" &\", \" Contents\", \" Home\", \" Insurance\", \" policy\", \",\", \" or\", \" separate\", \" Build\", \"ings\", \" or\", \" Contents\", \" Home\", \" Insurance\", \" Policy\", \" online\", \" at\", \" Little\", \"woods\", \".\", \"com\", \" between\", \" 1\", \"st\", \" and\", \" 31\", \"st\", \" August\", \" 2017\", \" to\", \" qualify\", \" for\", \" a\", \" free\", \" Amazon\", \" Echo\", \" Dot\", \".\", \" New\", \" Little\", \"woods\", \" Home\", \" Insurance\", \" customers\", \" only\", \".\", \"\\n\", \"\\n\", \"Prov\", \"ided\", \" your\", \" policy\", \" is\", \" still\", \" active\", \" and\", \" your\", \" premiums\", \" are\", \" up\", \" to\", \" date\", \",\", \" we\", \"'ll\", \" email\", \" you\", \" 4\", \" weeks\", \" post\", \"-\", \"p\", \"urchase\", \" to\", \" explain\", \" how\", \" you\", \" claim\", \" your\", \" free\", \" Amazon\", \" Echo\", \" Dot\"], [\".\", \"theme\", \"-\", \"d\", \"usk\", \",.\", \"theme\", \"-\", \"mid\", \"night\", \" {\", \"\\n\", \"    \", \".\", \"hljs\", \" {\", \"\\n\", \"      \", \"display\", \":\", \" block\", \";\", \"\\n\", \"      \", \"overflow\", \"-\", \"x\", \":\", \" auto\", \";\", \"\\n\", \"      \", \"background\", \":\", \" #\", \"232\", \"323\", \";\", \"\\n\", \"      \", \"color\", \":\", \" #\", \"e\", \"6\", \"e\", \"1\", \"dc\", \";\", \"\\n\", \"    \", \"}\", \"\\n\\n\", \"    \", \".\", \"hljs\", \"-\", \"comment\", \",\", \"\\n\", \"    \", \".\", \"hljs\", \"-\", \"quote\", \" {\", \"\\n\", \"      \", \"color\", \":\", \" #\", \"bc\", \"9\", \"458\", \";\", \"\\n\", \"      \", \"font\", \"-\", \"style\", \":\", \" ital\"], [\"Oh\", \" law\", \"d\", \" oh\", \" law\", \"d\", \"!\", \" I\", \"'m\", \" tired\", \" and\", \" weary\", \" of\", \" pain\", \" Please\", \" law\", \"d\", \"!\", \" please\", \" law\", \"d\", \"!\", \" forgive\", \" me\", \" if\", \" I\", \" complain\", \" Up\", \" in\", \" the\", \" morn\"], [\"It\"], [\"It\", \" is\"], [\"It\", \" is\", \" done\"], [\"It\", \" is\", \" done\", \",\"], [\"It\", \" is\", \" done\", \",\", \" and\"], [\"It\", \" is\", \" done\", \",\", \" and\", \" submitted\"], [\"It\", \" is\", \" done\", \",\", \" and\", \" submitted\", \".\"], [\"It\", \" is\", \" done\", \",\", \" and\", \" submitted\", \".\", \" You\"], [\"It\", \" is\", \" done\", \",\", \" and\", \" submitted\", \".\", \" You\", \" can\"], [\"It\", \" is\", \" done\", \",\", \" and\", \" submitted\", \".\", \" You\", \" can\", \" play\"], [\"It\", \" is\", \" done\", \",\", \" and\", \" submitted\", \".\", \" You\", \" can\", \" play\", \" \\u201c\"], [\"It\", \" is\", \" done\", \",\", \" and\", \" submitted\", \".\", \" You\", \" can\", \" play\", \" \\u201c\", \"Sur\"], [\"It\", \" is\", \" done\", \",\", \" and\", \" submitted\", \".\", \" You\", \" can\", \" play\", \" \\u201c\", \"Sur\", \"vival\"], [\"It\", \" is\", \" done\", \",\", \" and\", \" submitted\", \".\", \" You\", \" can\", \" play\", \" \\u201c\", \"Sur\", \"vival\", \" of\"], [\"It\", \" is\", \" done\", \",\", \" and\", \" submitted\", \".\", \" You\", \" can\", \" play\", \" \\u201c\", \"Sur\", \"vival\", \" of\", \" the\"], [\"It\", \" is\", \" done\", \",\", \" and\", \" submitted\", \".\", \" You\", \" can\", \" play\", \" \\u201c\", \"Sur\", \"vival\", \" of\", \" the\", \" T\"], [\"It\", \" is\", \" done\", \",\", \" and\", \" submitted\", \".\", \" You\", \" can\", \" play\", \" \\u201c\", \"Sur\", \"vival\", \" of\", \" the\", \" T\", \"ast\"], [\"It\", \" is\", \" done\", \",\", \" and\", \" submitted\", \".\", \" You\", \" can\", \" play\", \" \\u201c\", \"Sur\", \"vival\", \" of\", \" the\", \" T\", \"ast\", \"iest\"], [\"It\", \" is\", \" done\", \",\", \" and\", \" submitted\", \".\", \" You\", \" can\", \" play\", \" \\u201c\", \"Sur\", \"vival\", \" of\", \" the\", \" T\", \"ast\", \"iest\", \"\\u201d\"], [\"It\", \" is\", \" done\", \",\", \" and\", \" submitted\", \".\", \" You\", \" can\", \" play\", \" \\u201c\", \"Sur\", \"vival\", \" of\", \" the\", \" T\", \"ast\", \"iest\", \"\\u201d\", \" on\"], [\"It\", \" is\", \" done\", \",\", \" and\", \" submitted\", \".\", \" You\", \" can\", \" play\", \" \\u201c\", \"Sur\", \"vival\", \" of\", \" the\", \" T\", \"ast\", \"iest\", \"\\u201d\", \" on\", \" Android\"], [\"It\", \" is\", \" done\", \",\", \" and\", \" submitted\", \".\", \" You\", \" can\", \" play\", \" \\u201c\", \"Sur\", \"vival\", \" of\", \" the\", \" T\", \"ast\", \"iest\", \"\\u201d\", \" on\", \" Android\", \",\"], [\"It\", \" is\", \" done\", \",\", \" and\", \" submitted\", \".\", \" You\", \" can\", \" play\", \" \\u201c\", \"Sur\", \"vival\", \" of\", \" the\", \" T\", \"ast\", \"iest\", \"\\u201d\", \" on\", \" Android\", \",\", \" and\"]], \"activations\": [[[[0.0]], [[0.0]], [[0.0]], [[0.0]], [[0.0]], [[0.0]], [[0.0]], [[0.0]], [[0.0]], [[0.0]], [[0.0]], [[0.0]], [[0.0]], [[0.0]], [[0.0]], [[0.0]], [[0.0]], [[0.0]], [[0.0]], [[0.0]], [[0.0]], [[0.0]], [[0.0]], [[0.0]], [[0.0]], [[0.0]], [[0.0]], [[0.0]], [[0.0]], [[0.0]], [[0.0]], [[0.0]], [[0.0]], [[0.0]], [[0.0]], [[0.0]], [[0.0]], [[0.0]], [[0.0]], [[0.0]], [[0.0]], [[0.0]], [[0.0]], [[0.0]], [[0.0]], [[0.0]], [[0.0]], [[0.0]], [[0.0]], [[0.0]], [[0.0]], [[0.0]], [[0.0]], [[0.0]], [[0.0]], [[0.0]], [[0.0]], [[0.0]], [[0.0]], [[0.0]], [[0.0]], [[0.0]], [[0.0]], [[0.0]], [[0.0]], [[0.0]], [[0.0]], [[0.0]], [[0.0]], [[0.0]], [[0.0]], [[0.0]], [[0.0]], [[0.0]], [[0.0]], [[0.0]], [[0.0]], [[0.0]], [[0.0]], [[0.0]], [[0.0]], [[5.6443023681640625]]], [[[0.0]], [[0.0]], [[0.0]], [[0.0]], [[0.0]], [[0.0]], [[0.0]], [[0.0]], [[0.0]], [[0.0]], [[0.0]], [[0.0]], [[0.0]], [[0.0]], [[0.0]], [[0.0]], [[0.0]], [[0.0]], [[0.0]], [[0.0]], [[0.0]], [[0.0]], [[0.0]], [[0.0]], [[0.0]], [[0.0]], [[0.0]], [[0.0]], [[0.0]], [[0.0]], [[0.0]], [[0.0]], [[0.0]], [[0.0]], [[0.0]], [[0.0]], [[0.0]], [[0.0]], [[0.0]], [[0.0]], [[0.0]], [[0.0]], [[0.0]], [[0.0]], [[0.0]], [[0.0]], [[0.0]], [[0.0]], [[0.0]], [[0.0]], [[0.0]], [[0.0]], [[0.0]], [[0.0]], [[0.0]], [[0.0]], [[0.0]], [[0.0]], [[0.0]], [[0.0]], [[0.0]], [[0.0]], [[0.0]], [[0.0]], [[0.0]], [[0.0]], [[0.0]], [[0.0]], [[0.0]], [[0.0]], [[0.0]], [[0.0]], [[0.0]], [[0.0]], [[0.0]], [[0.0]], [[0.0]], [[0.0]], [[0.0]], [[0.0]], [[0.0]], [[0.0]], [[0.0]], [[0.0]], [[0.0]], [[0.0]], [[0.0]], [[0.0]], [[0.0]], [[0.0]], [[0.0]], [[0.0]], [[0.0]], [[0.0]], [[0.0]], [[0.0]], [[0.0]], [[0.0]], [[0.0]], [[0.0]], [[0.0]], [[0.0]], [[5.6443023681640625]]], [[[0.0]], [[0.0]], [[0.0]], [[0.0]], [[0.0]], [[0.0]], [[0.0]], [[0.0]], [[0.0]], [[0.0]], [[0.0]], [[0.0]], [[0.0]], [[0.0]], [[0.0]], [[0.0]], [[0.0]], [[0.0]], [[0.0]], [[0.0]], [[0.0]], [[0.0]], [[0.0]], [[0.0]], [[0.0]], [[0.0]], [[0.0]], [[0.0]], [[0.0]], [[0.0]], [[0.0]], [[0.0]], [[0.0]], [[0.0]], [[0.0]], [[0.0]], [[0.0]], [[0.0]], [[0.0]], [[0.0]], [[0.0]], [[0.0]], [[0.0]], [[0.0]], [[0.0]], [[0.0]], [[0.0]], [[0.0]], [[0.0]], [[0.0]], [[0.0]], [[0.0]], [[0.0]], [[0.0]], [[0.0]], [[0.0]], [[0.0]], [[0.0]], [[0.0]], [[0.0]], [[0.0]], [[0.0]], [[5.6443023681640625]]], [[[0.0]], [[0.0]], [[0.0]], [[0.0]], [[0.0]], [[0.0]], [[0.0]], [[0.0]], [[0.0]], [[0.0]], [[0.0]], [[0.0]], [[0.0]], [[0.0]], [[0.0]], [[0.0]], [[0.0]], [[0.0]], [[0.0]], [[0.0]], [[0.0]], [[0.0]], [[0.0]], [[0.0]], [[0.0]], [[0.0]], [[0.0]], [[0.0]], [[0.0]], [[0.0]], [[0.0]], [[0.0]], [[0.0]], [[0.0]], [[0.0]], [[0.0]], [[0.0]], [[0.0]], [[0.0]], [[0.0]], [[0.0]], [[0.0]], [[0.0]], [[0.1325371265411377]]], [[[0.0]], [[0.0]], [[0.0]], [[0.0]], [[0.0]], [[0.0]], [[0.0]], [[0.0]], [[0.0]], [[0.0]], [[0.0]], [[0.0]], [[0.0]], [[0.0]], [[0.0]], [[0.0]], [[0.0]], [[0.0]], [[0.0]], [[0.0]], [[0.0]], [[0.0]], [[0.0]], [[0.0]], [[0.0]], [[0.0]], [[0.0]], [[0.0]], [[0.0]], [[0.0]], [[0.0]], [[0.0]], [[0.0]], [[0.0]], [[0.0]], [[0.0]], [[0.0]], [[0.0]], [[0.0]], [[0.0]], [[0.0]], [[0.0]], [[0.0]], [[0.1325371265411377]], [[0.0]], [[0.0]], [[0.0]], [[0.0]], [[0.0]], [[0.0]], [[0.0]], [[0.0]], [[0.0]], [[0.0]], [[0.0]], [[0.0]], [[0.0]], [[0.0]], [[0.0]], [[0.0]], [[0.0]], [[0.0]], [[0.0]], [[0.0]], [[0.0]], [[0.0]], [[0.0]], [[0.0]], [[0.0]], [[0.0]], [[0.0]], [[0.0]], [[0.0]], [[0.0]], [[0.0]], [[0.0]], [[0.0]], [[0.0]], [[0.0]], [[0.0]], [[0.0]], [[0.0]], [[0.0]], [[0.0]], [[0.0]], [[0.0]], [[0.0]], [[0.0]], [[0.0]], [[0.1325371265411377]]], [[[0.0]], [[0.0]], [[0.0]], [[0.0]], [[0.0]], [[0.0]], [[0.0]], [[0.0]], [[0.0]], [[0.0]], [[0.0]], [[0.0]], [[0.0]], [[0.0]], [[0.0]], [[0.0]], [[0.0]], [[0.0]], [[0.0]], [[0.0]], [[0.0]], [[0.0]], [[0.0]], [[0.0]], [[0.0]], [[0.0]], [[0.0]], [[0.0]], [[0.0]], [[0.0]], [[0.0]], [[0.0]], [[0.0]], [[0.0]], [[0.0]], [[0.0]], [[0.0]], [[0.0]], [[0.0]], [[0.0]], [[0.0]], [[0.0]], [[0.0]], [[0.0]], [[0.0]], [[0.0]], [[0.0]], [[0.0]], [[0.0]], [[0.0]], [[0.0]], [[0.0]], [[0.0]], [[0.0]], [[0.0]], [[0.0]], [[0.0]], [[0.0]], [[0.0]], [[0.0]], [[0.0]], [[0.0]], [[0.0]], [[0.0]], [[0.0]], [[0.0]], [[0.0]], [[0.0]], [[0.0]], [[0.0]], [[0.0]], [[0.0]], [[0.0]], [[0.0]], [[0.0]], [[0.0]], [[0.0]], [[0.0]], [[0.0]], [[0.0]], [[0.0]], [[0.09734439849853516]]], [[[0.0]], [[0.0]], [[0.0]], [[0.0]], [[0.0]], [[0.0]], [[0.0]], [[0.0]], [[0.0]], [[0.0]], [[0.0]], [[0.0]], [[0.0]], [[0.0]], [[0.0]], [[0.0]], [[0.0]], [[0.0]], [[0.0]], [[0.0]], [[0.0]], [[0.0]], [[0.0]], [[0.0]], [[0.0]], [[0.0]], [[0.0]], [[0.0]], [[0.0]], [[0.0]], [[0.02840125560760498]]], [[[0.0]]], [[[0.0]], [[0.0]]], [[[0.0]], [[0.0]], [[0.0]]], [[[0.0]], [[0.0]], [[0.0]], [[0.0]]], [[[0.0]], [[0.0]], [[0.0]], [[0.0]], [[0.0]]], [[[0.0]], [[0.0]], [[0.0]], [[0.0]], [[0.0]], [[0.0]]], [[[0.0]], [[0.0]], [[0.0]], [[0.0]], [[0.0]], [[0.0]], [[0.0]]], [[[0.0]], [[0.0]], [[0.0]], [[0.0]], [[0.0]], [[0.0]], [[0.0]], [[0.0]]], [[[0.0]], [[0.0]], [[0.0]], [[0.0]], [[0.0]], [[0.0]], [[0.0]], [[0.0]], [[0.0]]], [[[0.0]], [[0.0]], [[0.0]], [[0.0]], [[0.0]], [[0.0]], [[0.0]], [[0.0]], [[0.0]], [[0.0]]], [[[0.0]], [[0.0]], [[0.0]], [[0.0]], [[0.0]], [[0.0]], [[0.0]], [[0.0]], [[0.0]], [[0.0]], [[0.0]]], [[[0.0]], [[0.0]], [[0.0]], [[0.0]], [[0.0]], [[0.0]], [[0.0]], [[0.0]], [[0.0]], [[0.0]], [[0.0]], [[0.0]]], [[[0.0]], [[0.0]], [[0.0]], [[0.0]], [[0.0]], [[0.0]], [[0.0]], [[0.0]], [[0.0]], [[0.0]], [[0.0]], [[0.0]], [[0.0]]], [[[0.0]], [[0.0]], [[0.0]], [[0.0]], [[0.0]], [[0.0]], [[0.0]], [[0.0]], [[0.0]], [[0.0]], [[0.0]], [[0.0]], [[0.0]], [[0.0]]], [[[0.0]], [[0.0]], [[0.0]], [[0.0]], [[0.0]], [[0.0]], [[0.0]], [[0.0]], [[0.0]], [[0.0]], [[0.0]], [[0.0]], [[0.0]], [[0.0]], [[0.0]]], [[[0.0]], [[0.0]], [[0.0]], [[0.0]], [[0.0]], [[0.0]], [[0.0]], [[0.0]], [[0.0]], [[0.0]], [[0.0]], [[0.0]], [[0.0]], [[0.0]], [[0.0]], [[0.0]]], [[[0.0]], [[0.0]], [[0.0]], [[0.0]], [[0.0]], [[0.0]], [[0.0]], [[0.0]], [[0.0]], [[0.0]], [[0.0]], [[0.0]], [[0.0]], [[0.0]], [[0.0]], [[0.0]], [[0.0]]], [[[0.0]], [[0.0]], [[0.0]], [[0.0]], [[0.0]], [[0.0]], [[0.0]], [[0.0]], [[0.0]], [[0.0]], [[0.0]], [[0.0]], [[0.0]], [[0.0]], [[0.0]], [[0.0]], [[0.0]], [[0.0]]], [[[0.0]], [[0.0]], [[0.0]], [[0.0]], [[0.0]], [[0.0]], [[0.0]], [[0.0]], [[0.0]], [[0.0]], [[0.0]], [[0.0]], [[0.0]], [[0.0]], [[0.0]], [[0.0]], [[0.0]], [[0.0]], [[0.0]]], [[[0.0]], [[0.0]], [[0.0]], [[0.0]], [[0.0]], [[0.0]], [[0.0]], [[0.0]], [[0.0]], [[0.0]], [[0.0]], [[0.0]], [[0.0]], [[0.0]], [[0.0]], [[0.0]], [[0.0]], [[0.0]], [[0.0]], [[0.0]]], [[[0.0]], [[0.0]], [[0.0]], [[0.0]], [[0.0]], [[0.0]], [[0.0]], [[0.0]], [[0.0]], [[0.0]], [[0.0]], [[0.0]], [[0.0]], [[0.0]], [[0.0]], [[0.0]], [[0.0]], [[0.0]], [[0.0]], [[0.0]], [[0.0]]], [[[0.0]], [[0.0]], [[0.0]], [[0.0]], [[0.0]], [[0.0]], [[0.0]], [[0.0]], [[0.0]], [[0.0]], [[0.0]], [[0.0]], [[0.0]], [[0.0]], [[0.0]], [[0.0]], [[0.0]], [[0.0]], [[0.0]], [[0.0]], [[0.0]], [[0.0]]], [[[0.0]], [[0.0]], [[0.0]], [[0.0]], [[0.0]], [[0.0]], [[0.0]], [[0.0]], [[0.0]], [[0.0]], [[0.0]], [[0.0]], [[0.0]], [[0.0]], [[0.0]], [[0.0]], [[0.0]], [[0.0]], [[0.0]], [[0.0]], [[0.0]], [[0.0]], [[0.0]]]], \"firstDimensionName\": \"Layer\", \"secondDimensionName\": \"Neuron\"}\n",
       "    )\n",
       "    </script>"
      ],
      "text/plain": [
       "<circuitsvis.utils.render.RenderedHTML at 0x7fdd692bee50>"
      ]
     },
     "execution_count": 9,
     "metadata": {},
     "output_type": "execute_result"
    }
   ],
   "source": [
    "# Choose a component and feature to examine\n",
    "\n",
    "submodule_name = \"mlp0\"\n",
    "feat_idx = 22005\n",
    "\n",
    "submodule = submodule_names[submodule_name]\n",
    "dictionary = dictionaries[submodule]\n",
    "out = examine_dimension(\n",
    "    model,\n",
    "    submodule,\n",
    "    inputs,\n",
    "    dictionary,\n",
    "    dim_idx=feat_idx,\n",
    "    max_length=ctx_len,\n",
    "    n_inputs=n_ctxs,\n",
    ")\n",
    "\n",
    "# Cleanup memory\n",
    "t.cuda.empty_cache()\n",
    "gc.collect()\n",
    "\n",
    "# Visualize the results\n",
    "text_neuron_activations(*out.top_contexts)"
   ]
  },
  {
   "cell_type": "code",
   "execution_count": null,
   "metadata": {},
   "outputs": [],
   "source": []
  },
  {
   "cell_type": "code",
   "execution_count": null,
   "metadata": {},
   "outputs": [],
   "source": []
  },
  {
   "cell_type": "markdown",
   "metadata": {},
   "source": [
    "## Concat context files"
   ]
  },
  {
   "cell_type": "code",
   "execution_count": 11,
   "metadata": {},
   "outputs": [
    {
     "name": "stdout",
     "output_type": "stream",
     "text": [
      "Loaded 20 contexts from dense_RC_10_32768_contexts\n",
      "Loaded 25 contexts from dense_random_10_32768_contexts\n",
      "Loaded 23 contexts from sparse_RC_10_32768_contexts\n",
      "Loaded 25 contexts from sparse_random_10_32768_contexts\n",
      "Loaded 25 contexts from dense_BiB_10_32768_contexts\n",
      "Loaded 25 contexts from sparse_BiB_10_32768_contexts\n"
     ]
    }
   ],
   "source": [
    "import json\n",
    "import numpy as np\n",
    "\n",
    "file_names = [\n",
    "    \"dense_RC_10_32768_contexts\",\n",
    "    \"dense_random_10_32768_contexts\",\n",
    "    \"sparse_RC_10_32768_contexts\",\n",
    "    \"sparse_random_10_32768_contexts\",\n",
    "    \"dense_BiB_10_32768_contexts\",\n",
    "    \"sparse_BiB_10_32768_contexts\",\n",
    "]\n",
    "total_contexts = dict()\n",
    "for file_name in file_names:\n",
    "    next_idx = len(total_contexts)\n",
    "    with open(f'/home/can/dictionary-circuits/feature_annotation/contexts/{file_name}.json', 'r') as f:\n",
    "        context = json.load(f)\n",
    "        print(f'Loaded {len(context)} contexts from {file_name}')\n",
    "    for idx, ctx in context.items():\n",
    "        idx = int(idx)\n",
    "        total_contexts[next_idx + idx] = ctx"
   ]
  },
  {
   "cell_type": "code",
   "execution_count": 12,
   "metadata": {},
   "outputs": [],
   "source": [
    "# Randomly shuffle keys of total_contexts\n",
    "keys = list(total_contexts.keys())\n",
    "np.random.shuffle(keys)\n",
    "total_contexts = {i: total_contexts[k] for i, k in enumerate(keys)}\n",
    "\n",
    "# Save total_contexts\n",
    "with open(f'/home/can/dictionary-circuits/feature_annotation/contexts/sparse-dense_random-RC_contexts.json', 'w') as f:\n",
    "    json.dump(total_contexts, f)"
   ]
  },
  {
   "cell_type": "code",
   "execution_count": 5,
   "metadata": {},
   "outputs": [
    {
     "ename": "FileNotFoundError",
     "evalue": "[Errno 2] No such file or directory: '/home/can/dictionary-circuits/feature_annotation/contexts/dense_RC_contexts_run10_32768.json'",
     "output_type": "error",
     "traceback": [
      "\u001b[0;31m---------------------------------------------------------------------------\u001b[0m",
      "\u001b[0;31mFileNotFoundError\u001b[0m                         Traceback (most recent call last)",
      "Cell \u001b[0;32mIn[5], line 4\u001b[0m\n\u001b[1;32m      2\u001b[0m set_name \u001b[38;5;241m=\u001b[39m \u001b[38;5;124m\"\u001b[39m\u001b[38;5;124mdense_RC\u001b[39m\u001b[38;5;124m\"\u001b[39m\n\u001b[1;32m      3\u001b[0m file_name \u001b[38;5;241m=\u001b[39m \u001b[38;5;124m\"\u001b[39m\u001b[38;5;124mdense_RC_contexts_run10_32768\u001b[39m\u001b[38;5;124m\"\u001b[39m\n\u001b[0;32m----> 4\u001b[0m \u001b[38;5;28;01mwith\u001b[39;00m \u001b[38;5;28;43mopen\u001b[39;49m\u001b[43m(\u001b[49m\u001b[38;5;124;43mf\u001b[39;49m\u001b[38;5;124;43m'\u001b[39;49m\u001b[38;5;124;43m/home/can/dictionary-circuits/feature_annotation/contexts/\u001b[39;49m\u001b[38;5;132;43;01m{\u001b[39;49;00m\u001b[43mfile_name\u001b[49m\u001b[38;5;132;43;01m}\u001b[39;49;00m\u001b[38;5;124;43m.json\u001b[39;49m\u001b[38;5;124;43m'\u001b[39;49m\u001b[43m,\u001b[49m\u001b[43m \u001b[49m\u001b[38;5;124;43m'\u001b[39;49m\u001b[38;5;124;43mr\u001b[39;49m\u001b[38;5;124;43m'\u001b[39;49m\u001b[43m)\u001b[49m \u001b[38;5;28;01mas\u001b[39;00m f:\n\u001b[1;32m      5\u001b[0m     context \u001b[38;5;241m=\u001b[39m json\u001b[38;5;241m.\u001b[39mload(f)\n\u001b[1;32m      6\u001b[0m     \u001b[38;5;28;01mfor\u001b[39;00m k \u001b[38;5;129;01min\u001b[39;00m context:\n",
      "File \u001b[0;32m~/.local/lib/python3.8/site-packages/IPython/core/interactiveshell.py:284\u001b[0m, in \u001b[0;36m_modified_open\u001b[0;34m(file, *args, **kwargs)\u001b[0m\n\u001b[1;32m    277\u001b[0m \u001b[38;5;28;01mif\u001b[39;00m file \u001b[38;5;129;01min\u001b[39;00m {\u001b[38;5;241m0\u001b[39m, \u001b[38;5;241m1\u001b[39m, \u001b[38;5;241m2\u001b[39m}:\n\u001b[1;32m    278\u001b[0m     \u001b[38;5;28;01mraise\u001b[39;00m \u001b[38;5;167;01mValueError\u001b[39;00m(\n\u001b[1;32m    279\u001b[0m         \u001b[38;5;124mf\u001b[39m\u001b[38;5;124m\"\u001b[39m\u001b[38;5;124mIPython won\u001b[39m\u001b[38;5;124m'\u001b[39m\u001b[38;5;124mt let you open fd=\u001b[39m\u001b[38;5;132;01m{\u001b[39;00mfile\u001b[38;5;132;01m}\u001b[39;00m\u001b[38;5;124m by default \u001b[39m\u001b[38;5;124m\"\u001b[39m\n\u001b[1;32m    280\u001b[0m         \u001b[38;5;124m\"\u001b[39m\u001b[38;5;124mas it is likely to crash IPython. If you know what you are doing, \u001b[39m\u001b[38;5;124m\"\u001b[39m\n\u001b[1;32m    281\u001b[0m         \u001b[38;5;124m\"\u001b[39m\u001b[38;5;124myou can use builtins\u001b[39m\u001b[38;5;124m'\u001b[39m\u001b[38;5;124m open.\u001b[39m\u001b[38;5;124m\"\u001b[39m\n\u001b[1;32m    282\u001b[0m     )\n\u001b[0;32m--> 284\u001b[0m \u001b[38;5;28;01mreturn\u001b[39;00m \u001b[43mio_open\u001b[49m\u001b[43m(\u001b[49m\u001b[43mfile\u001b[49m\u001b[43m,\u001b[49m\u001b[43m \u001b[49m\u001b[38;5;241;43m*\u001b[39;49m\u001b[43margs\u001b[49m\u001b[43m,\u001b[49m\u001b[43m \u001b[49m\u001b[38;5;241;43m*\u001b[39;49m\u001b[38;5;241;43m*\u001b[39;49m\u001b[43mkwargs\u001b[49m\u001b[43m)\u001b[49m\n",
      "\u001b[0;31mFileNotFoundError\u001b[0m: [Errno 2] No such file or directory: '/home/can/dictionary-circuits/feature_annotation/contexts/dense_RC_contexts_run10_32768.json'"
     ]
    }
   ],
   "source": [
    "# add feature set name to all random conexts\n",
    "set_name = \"dense_RC\"\n",
    "file_name = \"dense_RC_contexts_run10_32768\"\n",
    "with open(f'/home/can/dictionary-circuits/feature_annotation/contexts/{file_name}.json', 'r') as f:\n",
    "    context = json.load(f)\n",
    "    for k in context:\n",
    "        context[k]['feature']['set_name'] = set_name\n",
    "\n",
    "# save the updated context\n",
    "with open(f'/home/can/dictionary-circuits/feature_annotation/contexts/{file_name}.json', 'w') as f:\n",
    "    json.dump(context, f)"
   ]
  },
  {
   "cell_type": "code",
   "execution_count": null,
   "metadata": {},
   "outputs": [],
   "source": []
  }
 ],
 "metadata": {
  "kernelspec": {
   "display_name": "Python 3",
   "language": "python",
   "name": "python3"
  },
  "language_info": {
   "codemirror_mode": {
    "name": "ipython",
    "version": 3
   },
   "file_extension": ".py",
   "mimetype": "text/x-python",
   "name": "python",
   "nbconvert_exporter": "python",
   "pygments_lexer": "ipython3",
   "version": "3.8.10"
  }
 },
 "nbformat": 4,
 "nbformat_minor": 2
}
